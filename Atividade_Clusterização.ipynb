{
  "nbformat": 4,
  "nbformat_minor": 0,
  "metadata": {
    "colab": {
      "provenance": [],
      "include_colab_link": true
    },
    "kernelspec": {
      "name": "python3",
      "display_name": "Python 3"
    },
    "language_info": {
      "name": "python"
    }
  },
  "cells": [
    {
      "cell_type": "markdown",
      "metadata": {
        "id": "view-in-github",
        "colab_type": "text"
      },
      "source": [
        "<a href=\"https://colab.research.google.com/github/danielamattos/Projetos---Master-Data-Decision-Science/blob/main/Atividade_Clusteriza%C3%A7%C3%A3o.ipynb\" target=\"_parent\"><img src=\"https://colab.research.google.com/assets/colab-badge.svg\" alt=\"Open In Colab\"/></a>"
      ]
    },
    {
      "cell_type": "markdown",
      "source": [
        "# Clusterização\n",
        "\n",
        "### Atividade 1: Crie um dataframe a partir do banco de dados `basedosdados.br_inep_ideb.municipio` disponível em [Ideb](https://basedosdados.org/dataset/br-inep-ideb?bdm_table=municipio). Selecione apenas as colunas `ano`, `sigla_uf`, `taxa_aprovacao`, `nota_saeb_matematica`, `nota_saeb_lingua_portuguesa` e `ideb`."
      ],
      "metadata": {
        "id": "eI_n6yqQcTJp"
      }
    },
    {
      "cell_type": "code",
      "source": [
        "from google.colab import drive\n",
        "drive.mount('/content/drive')\n",
        "\n",
        "import pandas as pd\n",
        "\n",
        "df_ideb =  pd.read_csv('/content/drive/MyDrive/sirius/ideb (2).csv')\n"
      ],
      "metadata": {
        "colab": {
          "base_uri": "https://localhost:8080/"
        },
        "id": "T5b661gSSURz",
        "outputId": "dc0211fa-c2ad-4dab-b4bb-e43777978418"
      },
      "execution_count": null,
      "outputs": [
        {
          "output_type": "stream",
          "name": "stdout",
          "text": [
            "Mounted at /content/drive\n"
          ]
        }
      ]
    },
    {
      "cell_type": "code",
      "source": [
        "# seu código\n",
        "\n",
        "df= df_ideb[['ano', 'sigla_uf','taxa_aprovacao','nota_saeb_matematica','nota_saeb_lingua_portuguesa','ideb']]\n",
        "\n",
        "df.info()\n"
      ],
      "metadata": {
        "id": "MTBYqZAAWBEq",
        "colab": {
          "base_uri": "https://localhost:8080/"
        },
        "outputId": "9aa992f4-05be-4061-d65e-8aab1199dc1c"
      },
      "execution_count": null,
      "outputs": [
        {
          "output_type": "stream",
          "name": "stdout",
          "text": [
            "<class 'pandas.core.frame.DataFrame'>\n",
            "Int64Index: 294426 entries, 0 to 294425\n",
            "Data columns (total 6 columns):\n",
            " #   Column                       Non-Null Count   Dtype  \n",
            "---  ------                       --------------   -----  \n",
            " 0   ano                          294426 non-null  int64  \n",
            " 1   sigla_uf                     294426 non-null  object \n",
            " 2   taxa_aprovacao               230833 non-null  float64\n",
            " 3   nota_saeb_matematica         197870 non-null  float64\n",
            " 4   nota_saeb_lingua_portuguesa  197870 non-null  float64\n",
            " 5   ideb                         222045 non-null  float64\n",
            "dtypes: float64(4), int64(1), object(1)\n",
            "memory usage: 15.7+ MB\n"
          ]
        }
      ]
    },
    {
      "cell_type": "markdown",
      "source": [
        "### Atividade 2: Selecione apenas os dados referentes ao ano de 2019 e agrupe os dados por estado, considerando a média."
      ],
      "metadata": {
        "id": "eqPLrlMzdVt9"
      }
    },
    {
      "cell_type": "code",
      "source": [
        "# seu código\n",
        "\n",
        "df_2019 = df[df['ano'] == 2019].groupby(by='sigla_uf').mean()\n",
        "\n",
        "df_2019 = df_2019.reset_index()\n",
        "\n"
      ],
      "metadata": {
        "id": "XrbwGjo_WEn3"
      },
      "execution_count": null,
      "outputs": []
    },
    {
      "cell_type": "markdown",
      "source": [
        "### Atividade 3: Padronize os dados."
      ],
      "metadata": {
        "id": "DIZFtzqlOgGL"
      }
    },
    {
      "cell_type": "code",
      "source": [
        "# seu código\n",
        "\n",
        "from sklearn.preprocessing import StandardScaler\n",
        "\n",
        "scaler = StandardScaler()\n",
        "\n",
        "df_scaled  = df_2019.copy()\n",
        "\n",
        "df_scaled.drop(['sigla_uf','ano'], inplace=True, axis=1)\n",
        "\n",
        "df_scaled[df_scaled.columns] = scaler.fit_transform(df_scaled)\n",
        "\n",
        "df_scaled['sigla_uf'] = df_2019['sigla_uf']\n",
        "\n",
        "df_scaled.head()"
      ],
      "metadata": {
        "id": "ipeYn2F_WGOo",
        "colab": {
          "base_uri": "https://localhost:8080/",
          "height": 206
        },
        "outputId": "fc14348f-ba09-4522-c2b8-4a230b0d05bb"
      },
      "execution_count": null,
      "outputs": [
        {
          "output_type": "execute_result",
          "data": {
            "text/plain": [
              "   taxa_aprovacao  nota_saeb_matematica  nota_saeb_lingua_portuguesa  \\\n",
              "0       -0.025280              0.080727                    -0.016434   \n",
              "1        0.801179             -0.437122                    -0.531887   \n",
              "2       -0.426168             -1.474271                    -1.443233   \n",
              "3       -1.670713             -1.889188                    -1.751891   \n",
              "4       -1.323101             -0.713999                    -0.626401   \n",
              "\n",
              "       ideb sigla_uf  \n",
              "0  0.092154       AC  \n",
              "1 -0.201424       AL  \n",
              "2 -1.063297       AM  \n",
              "3 -1.674063       AP  \n",
              "4 -1.060175       BA  "
            ],
            "text/html": [
              "\n",
              "  <div id=\"df-56560539-e9f1-4cf2-b2e7-a932e55a3def\">\n",
              "    <div class=\"colab-df-container\">\n",
              "      <div>\n",
              "<style scoped>\n",
              "    .dataframe tbody tr th:only-of-type {\n",
              "        vertical-align: middle;\n",
              "    }\n",
              "\n",
              "    .dataframe tbody tr th {\n",
              "        vertical-align: top;\n",
              "    }\n",
              "\n",
              "    .dataframe thead th {\n",
              "        text-align: right;\n",
              "    }\n",
              "</style>\n",
              "<table border=\"1\" class=\"dataframe\">\n",
              "  <thead>\n",
              "    <tr style=\"text-align: right;\">\n",
              "      <th></th>\n",
              "      <th>taxa_aprovacao</th>\n",
              "      <th>nota_saeb_matematica</th>\n",
              "      <th>nota_saeb_lingua_portuguesa</th>\n",
              "      <th>ideb</th>\n",
              "      <th>sigla_uf</th>\n",
              "    </tr>\n",
              "  </thead>\n",
              "  <tbody>\n",
              "    <tr>\n",
              "      <th>0</th>\n",
              "      <td>-0.025280</td>\n",
              "      <td>0.080727</td>\n",
              "      <td>-0.016434</td>\n",
              "      <td>0.092154</td>\n",
              "      <td>AC</td>\n",
              "    </tr>\n",
              "    <tr>\n",
              "      <th>1</th>\n",
              "      <td>0.801179</td>\n",
              "      <td>-0.437122</td>\n",
              "      <td>-0.531887</td>\n",
              "      <td>-0.201424</td>\n",
              "      <td>AL</td>\n",
              "    </tr>\n",
              "    <tr>\n",
              "      <th>2</th>\n",
              "      <td>-0.426168</td>\n",
              "      <td>-1.474271</td>\n",
              "      <td>-1.443233</td>\n",
              "      <td>-1.063297</td>\n",
              "      <td>AM</td>\n",
              "    </tr>\n",
              "    <tr>\n",
              "      <th>3</th>\n",
              "      <td>-1.670713</td>\n",
              "      <td>-1.889188</td>\n",
              "      <td>-1.751891</td>\n",
              "      <td>-1.674063</td>\n",
              "      <td>AP</td>\n",
              "    </tr>\n",
              "    <tr>\n",
              "      <th>4</th>\n",
              "      <td>-1.323101</td>\n",
              "      <td>-0.713999</td>\n",
              "      <td>-0.626401</td>\n",
              "      <td>-1.060175</td>\n",
              "      <td>BA</td>\n",
              "    </tr>\n",
              "  </tbody>\n",
              "</table>\n",
              "</div>\n",
              "      <button class=\"colab-df-convert\" onclick=\"convertToInteractive('df-56560539-e9f1-4cf2-b2e7-a932e55a3def')\"\n",
              "              title=\"Convert this dataframe to an interactive table.\"\n",
              "              style=\"display:none;\">\n",
              "        \n",
              "  <svg xmlns=\"http://www.w3.org/2000/svg\" height=\"24px\"viewBox=\"0 0 24 24\"\n",
              "       width=\"24px\">\n",
              "    <path d=\"M0 0h24v24H0V0z\" fill=\"none\"/>\n",
              "    <path d=\"M18.56 5.44l.94 2.06.94-2.06 2.06-.94-2.06-.94-.94-2.06-.94 2.06-2.06.94zm-11 1L8.5 8.5l.94-2.06 2.06-.94-2.06-.94L8.5 2.5l-.94 2.06-2.06.94zm10 10l.94 2.06.94-2.06 2.06-.94-2.06-.94-.94-2.06-.94 2.06-2.06.94z\"/><path d=\"M17.41 7.96l-1.37-1.37c-.4-.4-.92-.59-1.43-.59-.52 0-1.04.2-1.43.59L10.3 9.45l-7.72 7.72c-.78.78-.78 2.05 0 2.83L4 21.41c.39.39.9.59 1.41.59.51 0 1.02-.2 1.41-.59l7.78-7.78 2.81-2.81c.8-.78.8-2.07 0-2.86zM5.41 20L4 18.59l7.72-7.72 1.47 1.35L5.41 20z\"/>\n",
              "  </svg>\n",
              "      </button>\n",
              "      \n",
              "  <style>\n",
              "    .colab-df-container {\n",
              "      display:flex;\n",
              "      flex-wrap:wrap;\n",
              "      gap: 12px;\n",
              "    }\n",
              "\n",
              "    .colab-df-convert {\n",
              "      background-color: #E8F0FE;\n",
              "      border: none;\n",
              "      border-radius: 50%;\n",
              "      cursor: pointer;\n",
              "      display: none;\n",
              "      fill: #1967D2;\n",
              "      height: 32px;\n",
              "      padding: 0 0 0 0;\n",
              "      width: 32px;\n",
              "    }\n",
              "\n",
              "    .colab-df-convert:hover {\n",
              "      background-color: #E2EBFA;\n",
              "      box-shadow: 0px 1px 2px rgba(60, 64, 67, 0.3), 0px 1px 3px 1px rgba(60, 64, 67, 0.15);\n",
              "      fill: #174EA6;\n",
              "    }\n",
              "\n",
              "    [theme=dark] .colab-df-convert {\n",
              "      background-color: #3B4455;\n",
              "      fill: #D2E3FC;\n",
              "    }\n",
              "\n",
              "    [theme=dark] .colab-df-convert:hover {\n",
              "      background-color: #434B5C;\n",
              "      box-shadow: 0px 1px 3px 1px rgba(0, 0, 0, 0.15);\n",
              "      filter: drop-shadow(0px 1px 2px rgba(0, 0, 0, 0.3));\n",
              "      fill: #FFFFFF;\n",
              "    }\n",
              "  </style>\n",
              "\n",
              "      <script>\n",
              "        const buttonEl =\n",
              "          document.querySelector('#df-56560539-e9f1-4cf2-b2e7-a932e55a3def button.colab-df-convert');\n",
              "        buttonEl.style.display =\n",
              "          google.colab.kernel.accessAllowed ? 'block' : 'none';\n",
              "\n",
              "        async function convertToInteractive(key) {\n",
              "          const element = document.querySelector('#df-56560539-e9f1-4cf2-b2e7-a932e55a3def');\n",
              "          const dataTable =\n",
              "            await google.colab.kernel.invokeFunction('convertToInteractive',\n",
              "                                                     [key], {});\n",
              "          if (!dataTable) return;\n",
              "\n",
              "          const docLinkHtml = 'Like what you see? Visit the ' +\n",
              "            '<a target=\"_blank\" href=https://colab.research.google.com/notebooks/data_table.ipynb>data table notebook</a>'\n",
              "            + ' to learn more about interactive tables.';\n",
              "          element.innerHTML = '';\n",
              "          dataTable['output_type'] = 'display_data';\n",
              "          await google.colab.output.renderOutput(dataTable, element);\n",
              "          const docLink = document.createElement('div');\n",
              "          docLink.innerHTML = docLinkHtml;\n",
              "          element.appendChild(docLink);\n",
              "        }\n",
              "      </script>\n",
              "    </div>\n",
              "  </div>\n",
              "  "
            ]
          },
          "metadata": {},
          "execution_count": 5
        }
      ]
    },
    {
      "cell_type": "markdown",
      "source": [
        "### Atividade 4: Use o método do cotovelo para encontrar um valor adequado de k."
      ],
      "metadata": {
        "id": "83C6DDlCO3n9"
      }
    },
    {
      "cell_type": "code",
      "source": [
        "# seu código\n",
        "\n",
        "import seaborn as sns\n",
        "\n",
        "df_scaled.corr()"
      ],
      "metadata": {
        "id": "uMyX33odWKIE",
        "colab": {
          "base_uri": "https://localhost:8080/",
          "height": 175
        },
        "outputId": "6ee8530b-7915-468c-e4c1-b4f143325a2c"
      },
      "execution_count": null,
      "outputs": [
        {
          "output_type": "execute_result",
          "data": {
            "text/plain": [
              "                             taxa_aprovacao  nota_saeb_matematica  \\\n",
              "taxa_aprovacao                     1.000000              0.694758   \n",
              "nota_saeb_matematica               0.694758              1.000000   \n",
              "nota_saeb_lingua_portuguesa        0.678749              0.991215   \n",
              "ideb                               0.810383              0.956512   \n",
              "\n",
              "                             nota_saeb_lingua_portuguesa      ideb  \n",
              "taxa_aprovacao                                  0.678749  0.810383  \n",
              "nota_saeb_matematica                            0.991215  0.956512  \n",
              "nota_saeb_lingua_portuguesa                     1.000000  0.938921  \n",
              "ideb                                            0.938921  1.000000  "
            ],
            "text/html": [
              "\n",
              "  <div id=\"df-7d42090c-1a62-419c-bbaf-181d56e50ac5\">\n",
              "    <div class=\"colab-df-container\">\n",
              "      <div>\n",
              "<style scoped>\n",
              "    .dataframe tbody tr th:only-of-type {\n",
              "        vertical-align: middle;\n",
              "    }\n",
              "\n",
              "    .dataframe tbody tr th {\n",
              "        vertical-align: top;\n",
              "    }\n",
              "\n",
              "    .dataframe thead th {\n",
              "        text-align: right;\n",
              "    }\n",
              "</style>\n",
              "<table border=\"1\" class=\"dataframe\">\n",
              "  <thead>\n",
              "    <tr style=\"text-align: right;\">\n",
              "      <th></th>\n",
              "      <th>taxa_aprovacao</th>\n",
              "      <th>nota_saeb_matematica</th>\n",
              "      <th>nota_saeb_lingua_portuguesa</th>\n",
              "      <th>ideb</th>\n",
              "    </tr>\n",
              "  </thead>\n",
              "  <tbody>\n",
              "    <tr>\n",
              "      <th>taxa_aprovacao</th>\n",
              "      <td>1.000000</td>\n",
              "      <td>0.694758</td>\n",
              "      <td>0.678749</td>\n",
              "      <td>0.810383</td>\n",
              "    </tr>\n",
              "    <tr>\n",
              "      <th>nota_saeb_matematica</th>\n",
              "      <td>0.694758</td>\n",
              "      <td>1.000000</td>\n",
              "      <td>0.991215</td>\n",
              "      <td>0.956512</td>\n",
              "    </tr>\n",
              "    <tr>\n",
              "      <th>nota_saeb_lingua_portuguesa</th>\n",
              "      <td>0.678749</td>\n",
              "      <td>0.991215</td>\n",
              "      <td>1.000000</td>\n",
              "      <td>0.938921</td>\n",
              "    </tr>\n",
              "    <tr>\n",
              "      <th>ideb</th>\n",
              "      <td>0.810383</td>\n",
              "      <td>0.956512</td>\n",
              "      <td>0.938921</td>\n",
              "      <td>1.000000</td>\n",
              "    </tr>\n",
              "  </tbody>\n",
              "</table>\n",
              "</div>\n",
              "      <button class=\"colab-df-convert\" onclick=\"convertToInteractive('df-7d42090c-1a62-419c-bbaf-181d56e50ac5')\"\n",
              "              title=\"Convert this dataframe to an interactive table.\"\n",
              "              style=\"display:none;\">\n",
              "        \n",
              "  <svg xmlns=\"http://www.w3.org/2000/svg\" height=\"24px\"viewBox=\"0 0 24 24\"\n",
              "       width=\"24px\">\n",
              "    <path d=\"M0 0h24v24H0V0z\" fill=\"none\"/>\n",
              "    <path d=\"M18.56 5.44l.94 2.06.94-2.06 2.06-.94-2.06-.94-.94-2.06-.94 2.06-2.06.94zm-11 1L8.5 8.5l.94-2.06 2.06-.94-2.06-.94L8.5 2.5l-.94 2.06-2.06.94zm10 10l.94 2.06.94-2.06 2.06-.94-2.06-.94-.94-2.06-.94 2.06-2.06.94z\"/><path d=\"M17.41 7.96l-1.37-1.37c-.4-.4-.92-.59-1.43-.59-.52 0-1.04.2-1.43.59L10.3 9.45l-7.72 7.72c-.78.78-.78 2.05 0 2.83L4 21.41c.39.39.9.59 1.41.59.51 0 1.02-.2 1.41-.59l7.78-7.78 2.81-2.81c.8-.78.8-2.07 0-2.86zM5.41 20L4 18.59l7.72-7.72 1.47 1.35L5.41 20z\"/>\n",
              "  </svg>\n",
              "      </button>\n",
              "      \n",
              "  <style>\n",
              "    .colab-df-container {\n",
              "      display:flex;\n",
              "      flex-wrap:wrap;\n",
              "      gap: 12px;\n",
              "    }\n",
              "\n",
              "    .colab-df-convert {\n",
              "      background-color: #E8F0FE;\n",
              "      border: none;\n",
              "      border-radius: 50%;\n",
              "      cursor: pointer;\n",
              "      display: none;\n",
              "      fill: #1967D2;\n",
              "      height: 32px;\n",
              "      padding: 0 0 0 0;\n",
              "      width: 32px;\n",
              "    }\n",
              "\n",
              "    .colab-df-convert:hover {\n",
              "      background-color: #E2EBFA;\n",
              "      box-shadow: 0px 1px 2px rgba(60, 64, 67, 0.3), 0px 1px 3px 1px rgba(60, 64, 67, 0.15);\n",
              "      fill: #174EA6;\n",
              "    }\n",
              "\n",
              "    [theme=dark] .colab-df-convert {\n",
              "      background-color: #3B4455;\n",
              "      fill: #D2E3FC;\n",
              "    }\n",
              "\n",
              "    [theme=dark] .colab-df-convert:hover {\n",
              "      background-color: #434B5C;\n",
              "      box-shadow: 0px 1px 3px 1px rgba(0, 0, 0, 0.15);\n",
              "      filter: drop-shadow(0px 1px 2px rgba(0, 0, 0, 0.3));\n",
              "      fill: #FFFFFF;\n",
              "    }\n",
              "  </style>\n",
              "\n",
              "      <script>\n",
              "        const buttonEl =\n",
              "          document.querySelector('#df-7d42090c-1a62-419c-bbaf-181d56e50ac5 button.colab-df-convert');\n",
              "        buttonEl.style.display =\n",
              "          google.colab.kernel.accessAllowed ? 'block' : 'none';\n",
              "\n",
              "        async function convertToInteractive(key) {\n",
              "          const element = document.querySelector('#df-7d42090c-1a62-419c-bbaf-181d56e50ac5');\n",
              "          const dataTable =\n",
              "            await google.colab.kernel.invokeFunction('convertToInteractive',\n",
              "                                                     [key], {});\n",
              "          if (!dataTable) return;\n",
              "\n",
              "          const docLinkHtml = 'Like what you see? Visit the ' +\n",
              "            '<a target=\"_blank\" href=https://colab.research.google.com/notebooks/data_table.ipynb>data table notebook</a>'\n",
              "            + ' to learn more about interactive tables.';\n",
              "          element.innerHTML = '';\n",
              "          dataTable['output_type'] = 'display_data';\n",
              "          await google.colab.output.renderOutput(dataTable, element);\n",
              "          const docLink = document.createElement('div');\n",
              "          docLink.innerHTML = docLinkHtml;\n",
              "          element.appendChild(docLink);\n",
              "        }\n",
              "      </script>\n",
              "    </div>\n",
              "  </div>\n",
              "  "
            ]
          },
          "metadata": {},
          "execution_count": 6
        }
      ]
    },
    {
      "cell_type": "code",
      "source": [
        "# usaremos as variáveis Taxa de aprovação e IDEB\n",
        "\n",
        "import matplotlib.pyplot as plt\n",
        "\n",
        "sns.set(style='white', font_scale=1.1, rc={'figure.figsize':(14,5)})\n",
        "\n",
        "from sklearn.cluster import KMeans\n",
        "\n",
        "inercia = []\n",
        "k_min = 2\n",
        "k_max = 10\n",
        "\n",
        "for i in range(k_min,k_max+1):\n",
        "    kmeans = KMeans(n_clusters=i, random_state=42)\n",
        "    kmeans.fit(df_scaled[['taxa_aprovacao','ideb']])\n",
        "    inercia.append(kmeans.inertia_)\n",
        "\n",
        "sns.lineplot(x=range(k_min,k_max+1), y=inercia, marker='o')\n",
        "plt.title('Soma dos Quadrados Intra-Cluster')\n",
        "plt.xlabel('Número de Clusters')\n",
        "plt.grid(True)"
      ],
      "metadata": {
        "colab": {
          "base_uri": "https://localhost:8080/",
          "height": 358
        },
        "id": "T78Wn-MXfOrd",
        "outputId": "f4974d53-b968-43e5-9621-de8987756a27"
      },
      "execution_count": null,
      "outputs": [
        {
          "output_type": "display_data",
          "data": {
            "text/plain": [
              "<Figure size 1008x360 with 1 Axes>"
            ],
            "image/png": "[encoded data removed]"
          },
          "metadata": {}
        }
      ]
    },
    {
      "cell_type": "markdown",
      "source": [
        "### Atividade 5: Use o método da silhueta para encontrar um valor adequado de k"
      ],
      "metadata": {
        "id": "OCXL1qDNPAwg"
      }
    },
    {
      "cell_type": "code",
      "source": [
        "# seu código\n",
        "\n",
        "from sklearn.metrics import silhouette_score\n",
        "\n",
        "silhueta = []\n",
        "k_min = 2\n",
        "k_max = 10\n",
        "n = [i for i in range(k_min, k_max+1)]\n",
        "\n",
        "for i in range(k_min,k_max+1):\n",
        "    kmeans = KMeans(n_clusters=i, random_state=42)\n",
        "    kmeans.fit(df_scaled[['taxa_aprovacao','ideb']])\n",
        "    silhueta.append(silhouette_score(df_scaled[['taxa_aprovacao','ideb']],\n",
        "                                     kmeans.labels_,\n",
        "                                     metric='euclidean'))"
      ],
      "metadata": {
        "id": "FHq5nB27WLdW"
      },
      "execution_count": null,
      "outputs": []
    },
    {
      "cell_type": "code",
      "source": [
        "sns.barplot(x=n, y=silhueta, color='green')\n",
        "plt.title('Coeficiente de Silhueta')\n",
        "plt.xlabel('Número de Clusters')\n",
        "plt.grid(True)"
      ],
      "metadata": {
        "colab": {
          "base_uri": "https://localhost:8080/",
          "height": 358
        },
        "id": "r_C6Us4si9yD",
        "outputId": "72c0c8e4-dbcd-4503-8d7f-d8962aee4ef2"
      },
      "execution_count": null,
      "outputs": [
        {
          "output_type": "display_data",
          "data": {
            "text/plain": [
              "<Figure size 1008x360 with 1 Axes>"
            ],
            "image/png": "[encoded data removed]"
          },
          "metadata": {}
        }
      ]
    },
    {
      "cell_type": "markdown",
      "source": [
        "### Atividade 6: Faça a clusterização com o valor escolhido para k."
      ],
      "metadata": {
        "id": "2p-vTKMfOoUZ"
      }
    },
    {
      "cell_type": "code",
      "source": [
        "# seu código\n",
        "\n",
        "def numero_otimo_clusters(k_min, k_max):\n",
        "    from sklearn.cluster import KMeans\n",
        "    import math\n",
        "    inercia = []\n",
        "\n",
        "    for i in range(k_min,k_max+1):\n",
        "        kmeans = KMeans(n_clusters=i, random_state=42)\n",
        "        kmeans.fit(df_scaled[['taxa_aprovacao','ideb']])\n",
        "        inercia.append(kmeans.inertia_)\n",
        "    \n",
        "    x0, y0 = k_min, inercia[0]\n",
        "    x1, y1 = k_max, inercia[len(inercia)-1]\n",
        "\n",
        "    distancias = []\n",
        "    for i in range(len(inercia)):\n",
        "        x = i+k_min\n",
        "        y = inercia[i]\n",
        "        numerador = abs( (y1-y0)*x - (x1-x0)*y + x1*y0 - y1*x0 )\n",
        "        denominador = math.sqrt( (y1 - y0)**2 + (x1 - x0)**2 )\n",
        "        distancias.append(numerador/denominador)\n",
        "    return distancias.index(max(distancias)) + 2\n",
        "\n",
        "# calculando a quantidade ótima de clusters\n",
        "k_otimo = numero_otimo_clusters(2,10)\n",
        "\n",
        "print('Número otimizado de clusters: ' + str(k_otimo))"
      ],
      "metadata": {
        "id": "CTa-cXjGWNbn",
        "colab": {
          "base_uri": "https://localhost:8080/"
        },
        "outputId": "221b9aa1-b554-4b61-afaa-c180b44b5c0c"
      },
      "execution_count": null,
      "outputs": [
        {
          "output_type": "stream",
          "name": "stdout",
          "text": [
            "Número otimizado de clusters: 4\n"
          ]
        }
      ]
    },
    {
      "cell_type": "markdown",
      "source": [
        "k = 4"
      ],
      "metadata": {
        "id": "LLrTKpTvl3E0"
      }
    },
    {
      "cell_type": "code",
      "source": [
        "kmeans = KMeans(n_clusters=4, random_state=42)\n",
        "\n",
        "kmeans.fit(df_scaled[['taxa_aprovacao', 'ideb']])\n",
        "\n",
        "kmeans.labels_"
      ],
      "metadata": {
        "colab": {
          "base_uri": "https://localhost:8080/"
        },
        "id": "h9Z4zmM1lMV-",
        "outputId": "f357470b-3906-4489-a5b1-071cd88f8b54"
      },
      "execution_count": null,
      "outputs": [
        {
          "output_type": "execute_result",
          "data": {
            "text/plain": [
              "array([0, 0, 2, 1, 1, 3, 0, 3, 3, 2, 0, 0, 0, 1, 2, 0, 2, 3, 0, 1, 0, 2,\n",
              "       0, 0, 1, 3, 0], dtype=int32)"
            ]
          },
          "metadata": {},
          "execution_count": 11
        }
      ]
    },
    {
      "cell_type": "markdown",
      "source": [
        "### Atividade 7: Faça um gráfico de dispersão destacando cada grupo."
      ],
      "metadata": {
        "id": "otEYFO5KOshc"
      }
    },
    {
      "cell_type": "code",
      "source": [
        "# seu código\n",
        "\n",
        "df_2019['grupos'] = kmeans.labels_.tolist()\n",
        "\n",
        "sns.scatterplot(data=df_2019, x='taxa_aprovacao', y='ideb',\n",
        "                hue='grupos', palette='tab10');\n"
      ],
      "metadata": {
        "id": "vC91Txh9WO6C",
        "colab": {
          "base_uri": "https://localhost:8080/",
          "height": 342
        },
        "outputId": "9be21ce9-025c-494c-de51-cc52a09303d0"
      },
      "execution_count": null,
      "outputs": [
        {
          "output_type": "display_data",
          "data": {
            "text/plain": [
              "<Figure size 1008x360 with 1 Axes>"
            ],
            "image/png": "[encoded data removed]"
          },
          "metadata": {}
        }
      ]
    },
    {
      "cell_type": "markdown",
      "source": [
        "### Atividade 8: Quais são os estados de cada grupo?"
      ],
      "metadata": {
        "id": "VcXRkwdVOxwN"
      }
    },
    {
      "cell_type": "code",
      "source": [
        "\n",
        "df_2019['grupos'] = kmeans.labels_.tolist()\n",
        "\n",
        "sns.scatterplot(data=df_2019, x='taxa_aprovacao', y='ideb',\n",
        "                hue='grupos', palette='tab10');\n",
        "\n",
        "aprov = df_2019['taxa_aprovacao']\n",
        "ideb = df_2019['ideb']\n",
        "estados = ['AC','AL','AP','AM','BA','CE','DF','ES','GO','MA','MT','MS','MG',\n",
        "           'PR','PB','PA','PE','PI','RN','RS','RJ','RO','RR','SC','SE','SP','TO']\n",
        "\n",
        "# anotando os 'nomes' de cada ponto\n",
        "for i, estado in enumerate(estados):\n",
        "    plt.annotate(estado, (aprov[i], ideb[i]) );\n",
        "\n"
      ],
      "metadata": {
        "id": "30ybTnxRWQ8n",
        "colab": {
          "base_uri": "https://localhost:8080/",
          "height": 342
        },
        "outputId": "3648e9bb-cfbd-434b-efd4-287a47654cdb"
      },
      "execution_count": null,
      "outputs": [
        {
          "output_type": "display_data",
          "data": {
            "text/plain": [
              "<Figure size 1008x360 with 1 Axes>"
            ],
            "image/png": "[encoded data removed]"
          },
          "metadata": {}
        }
      ]
    },
    {
      "cell_type": "markdown",
      "source": [
        "### Atividade 9: Faça um boxplot para comparar os valores das variáveis por grupo."
      ],
      "metadata": {
        "id": "ZdgBTz3Zcuc4"
      }
    },
    {
      "cell_type": "code",
      "source": [
        "# seu código\n",
        "\n",
        "sns.boxplot(x= df_2019['grupos'], y= df_2019['ideb']);"
      ],
      "metadata": {
        "id": "gt_ESjVxWTis",
        "colab": {
          "base_uri": "https://localhost:8080/",
          "height": 342
        },
        "outputId": "eaca4f4e-2c2c-44a5-dfda-4242c894fe8c"
      },
      "execution_count": null,
      "outputs": [
        {
          "output_type": "display_data",
          "data": {
            "text/plain": [
              "<Figure size 1008x360 with 1 Axes>"
            ],
            "image/png": "[encoded data removed]"
          },
          "metadata": {}
        }
      ]
    },
    {
      "cell_type": "code",
      "source": [
        "sns.boxplot(x= df_2019['grupos'], y= df_2019['taxa_aprovacao']);"
      ],
      "metadata": {
        "colab": {
          "base_uri": "https://localhost:8080/",
          "height": 342
        },
        "id": "sJWI0BSnucFJ",
        "outputId": "ceae2196-11f5-4359-981f-c7b2d6f5ce9d"
      },
      "execution_count": null,
      "outputs": [
        {
          "output_type": "display_data",
          "data": {
            "text/plain": [
              "<Figure size 1008x360 with 1 Axes>"
            ],
            "image/png": "[encoded data removed]"
          },
          "metadata": {}
        }
      ]
    },
    {
      "cell_type": "code",
      "source": [
        "sns.boxplot(x= df_2019['grupos'], y= df_2019['nota_saeb_matematica']);"
      ],
      "metadata": {
        "colab": {
          "base_uri": "https://localhost:8080/",
          "height": 342
        },
        "id": "IefN0cEYyTEh",
        "outputId": "40a0b295-0e8f-4b08-be1d-17cfd1bb83aa"
      },
      "execution_count": null,
      "outputs": [
        {
          "output_type": "display_data",
          "data": {
            "text/plain": [
              "<Figure size 1008x360 with 1 Axes>"
            ],
            "image/png": "[encoded data removed]"
          },
          "metadata": {}
        }
      ]
    },
    {
      "cell_type": "code",
      "source": [
        "sns.boxplot(x= df_2019['grupos'], y= df_2019['nota_saeb_lingua_portuguesa']);"
      ],
      "metadata": {
        "colab": {
          "base_uri": "https://localhost:8080/",
          "height": 342
        },
        "id": "xxOokGdgyhBH",
        "outputId": "d1b714cb-1af3-4e72-8afe-de5c8659d132"
      },
      "execution_count": null,
      "outputs": [
        {
          "output_type": "display_data",
          "data": {
            "text/plain": [
              "<Figure size 1008x360 with 1 Axes>"
            ],
            "image/png": "[encoded data removed]"
          },
          "metadata": {}
        }
      ]
    },
    {
      "cell_type": "code",
      "source": [],
      "metadata": {
        "id": "CXf1T2NTys8_"
      },
      "execution_count": null,
      "outputs": []
    },
    {
      "cell_type": "markdown",
      "source": [
        "### Atividade 10: Podemos afirmar, estatisticamente, que os grupos são distintos? Isto é, os dados foram adequadamente clusterizados?"
      ],
      "metadata": {
        "id": "WMzMCRWXf0yQ"
      }
    },
    {
      "cell_type": "code",
      "source": [
        "# seu código\n",
        "\n",
        "df_grupo0= df_2019[df_2019['grupos'] == 0]\n",
        "df_grupo1= df_2019[df_2019['grupos'] == 1]\n",
        "df_grupo2= df_2019[df_2019['grupos'] == 2]\n",
        "df_grupo3= df_2019[df_2019['grupos'] == 3]\n",
        "\n",
        "\n",
        "from scipy.stats import f_oneway\n",
        "\n",
        "f_oneway(df_grupo0['ideb'],df_grupo1['ideb'],df_grupo2['ideb'],df_grupo3['ideb'])"
      ],
      "metadata": {
        "id": "cmgCqWffWV7D",
        "colab": {
          "base_uri": "https://localhost:8080/"
        },
        "outputId": "6bc95930-7af9-48ed-ab6f-ea1ac1ad1b57"
      },
      "execution_count": null,
      "outputs": [
        {
          "output_type": "execute_result",
          "data": {
            "text/plain": [
              "F_onewayResult(statistic=57.57684464569191, pvalue=7.542508219427153e-11)"
            ]
          },
          "metadata": {},
          "execution_count": 18
        }
      ]
    },
    {
      "cell_type": "code",
      "source": [
        "f_oneway(df_grupo0['taxa_aprovacao'],df_grupo1['taxa_aprovacao'],df_grupo2['taxa_aprovacao'],df_grupo3['taxa_aprovacao'])"
      ],
      "metadata": {
        "colab": {
          "base_uri": "https://localhost:8080/"
        },
        "id": "xCI7yGHqqKfh",
        "outputId": "5c8908da-f891-42eb-cb11-9119b9b5a5d0"
      },
      "execution_count": null,
      "outputs": [
        {
          "output_type": "execute_result",
          "data": {
            "text/plain": [
              "F_onewayResult(statistic=41.88559299972311, pvalue=1.7496929460410136e-09)"
            ]
          },
          "metadata": {},
          "execution_count": 19
        }
      ]
    },
    {
      "cell_type": "markdown",
      "source": [
        "A hipótese nula é de que as médias do IDEB e da taxa de aprovação dos grupos são iguais.\n",
        "A hipótese alternativa é de que as médias do IDEB e da taxa de aprovação dos grupos são diferentes. Como o pvalor deu menor do que o nível de significância, podemos afirmar com 95% de confiança que as médias do IDEB e da taxa de aprovação dos grupos são diferentes."
      ],
      "metadata": {
        "id": "j9WjSdAbztEn"
      }
    },
    {
      "cell_type": "code",
      "source": [
        "from statsmodels.stats.multicomp import pairwise_tukeyhsd\n",
        "\n",
        "df_grupos= pd.concat([df_grupo0,df_grupo1,df_grupo2, df_grupo3])\n",
        "\n",
        "print(pairwise_tukeyhsd(endog = df_grupos['ideb'], groups = df_grupos['grupos'], alpha = 0.05))"
      ],
      "metadata": {
        "colab": {
          "base_uri": "https://localhost:8080/"
        },
        "id": "2Iq08BH_zsFo",
        "outputId": "ad236c95-88a9-4896-e9d0-0d0bfc1c1616"
      },
      "execution_count": null,
      "outputs": [
        {
          "output_type": "stream",
          "name": "stdout",
          "text": [
            "Multiple Comparison of Means - Tukey HSD, FWER=0.05 \n",
            "====================================================\n",
            "group1 group2 meandiff p-adj   lower   upper  reject\n",
            "----------------------------------------------------\n",
            "     0      1   -0.939  0.001 -1.2417 -0.6363   True\n",
            "     0      2   -0.726  0.001 -1.0287 -0.4233   True\n",
            "     0      3   0.5353  0.001  0.2326   0.838   True\n",
            "     1      2    0.213 0.3786 -0.1467  0.5727  False\n",
            "     1      3   1.4743  0.001  1.1146   1.834   True\n",
            "     2      3   1.2613  0.001  0.9016   1.621   True\n",
            "----------------------------------------------------\n"
          ]
        }
      ]
    },
    {
      "cell_type": "code",
      "source": [
        "print(pairwise_tukeyhsd(endog = df_grupos['taxa_aprovacao'], groups = df_grupos['grupos'], alpha = 0.05))"
      ],
      "metadata": {
        "colab": {
          "base_uri": "https://localhost:8080/"
        },
        "id": "PAsA2g0Sq1uY",
        "outputId": "e61ba290-3613-4256-ec4f-a2bfc9af5b45"
      },
      "execution_count": null,
      "outputs": [
        {
          "output_type": "stream",
          "name": "stdout",
          "text": [
            "Multiple Comparison of Means - Tukey HSD, FWER=0.05 \n",
            "====================================================\n",
            "group1 group2 meandiff p-adj   lower   upper  reject\n",
            "----------------------------------------------------\n",
            "     0      1  -7.8708  0.001 -10.545 -5.1967   True\n",
            "     0      2  -2.1146 0.1565 -4.7887  0.5595  False\n",
            "     0      3   4.6543  0.001  1.9801  7.3284   True\n",
            "     1      2   5.7562  0.001  2.5789  8.9336   True\n",
            "     1      3  12.5251  0.001  9.3478 15.7024   True\n",
            "     2      3   6.7689  0.001  3.5915  9.9462   True\n",
            "----------------------------------------------------\n"
          ]
        }
      ]
    },
    {
      "cell_type": "markdown",
      "source": [
        "Podemos afirmar que os grupos são distintos em relação a média do IDEB e da taxa de aprovação, pois podemos rejeitar a hipótese nula ao nível de 5% de significância para a maior parte dos grupos, porém não podemos afirmar que há diferença entre as médias do IDEB dos grupos 2 e 3 e entre as médias da taxa de aprovação dos grupos 0 e 2."
      ],
      "metadata": {
        "id": "FNVtRrxL02HZ"
      }
    },
    {
      "cell_type": "markdown",
      "source": [
        "### Atividade 11: Faça a clusterização com outro valor para k."
      ],
      "metadata": {
        "id": "3jL3LC5pbXev"
      }
    },
    {
      "cell_type": "markdown",
      "source": [
        "k = 3"
      ],
      "metadata": {
        "id": "Oab7NR5rulkQ"
      }
    },
    {
      "cell_type": "code",
      "source": [
        "# seu código\n",
        "\n",
        "kmeans = KMeans(n_clusters=3, random_state=42)\n",
        "\n",
        "kmeans.fit(df_scaled[['taxa_aprovacao', 'ideb']])\n",
        "\n",
        "kmeans.labels_"
      ],
      "metadata": {
        "id": "uILkB2dwWYA6",
        "colab": {
          "base_uri": "https://localhost:8080/"
        },
        "outputId": "8edbbf7b-0205-48f8-8881-708b65eea2a9"
      },
      "execution_count": null,
      "outputs": [
        {
          "output_type": "execute_result",
          "data": {
            "text/plain": [
              "array([2, 2, 1, 1, 1, 0, 2, 0, 0, 2, 0, 2, 2, 1, 1, 2, 2, 0, 2, 1, 2, 1,\n",
              "       2, 0, 1, 0, 2], dtype=int32)"
            ]
          },
          "metadata": {},
          "execution_count": 22
        }
      ]
    },
    {
      "cell_type": "code",
      "source": [
        "df_2019['grupos'] = kmeans.labels_.tolist()\n",
        "\n",
        "sns.scatterplot(data=df_2019, x='taxa_aprovacao', y='ideb',\n",
        "                hue='grupos', palette='tab10');\n",
        "\n",
        "aprov = df_2019['taxa_aprovacao']\n",
        "ideb = df_2019['ideb']\n",
        "estados = ['AC','AL','AP','AM','BA','CE','DF','ES','GO','MA','MT','MS','MG',\n",
        "           'PR','PB','PA','PE','PI','RN','RS','RJ','RO','RR','SC','SE','SP','TO']\n",
        "\n",
        "# anotando os 'nomes' de cada ponto\n",
        "for i, estado in enumerate(estados):\n",
        "    plt.annotate(estado, (aprov[i], ideb[i]) );\n"
      ],
      "metadata": {
        "colab": {
          "base_uri": "https://localhost:8080/",
          "height": 342
        },
        "id": "ZZjx3_Muuq8w",
        "outputId": "e504dbae-c612-4235-9d28-a8e2695c670a"
      },
      "execution_count": null,
      "outputs": [
        {
          "output_type": "display_data",
          "data": {
            "text/plain": [
              "<Figure size 1008x360 with 1 Axes>"
            ],
            "image/png": "[encoded data removed]"
          },
          "metadata": {}
        }
      ]
    },
    {
      "cell_type": "markdown",
      "source": [
        "### Atividade 12: Qual dos dois valores testados para k seria mais adequado?\n",
        "\n",
        "Resposta: O valor 3, pois podemos afirmar com 95% de confiança que a média do IDEB e a média da taxa de aprovação dos 3 grupos são diferentes entre si, conforme teste de Tukey."
      ],
      "metadata": {
        "id": "jAzu927IeS_S"
      }
    },
    {
      "cell_type": "code",
      "source": [
        "df_grupo0= df_2019[df_2019['grupos'] == 0]\n",
        "df_grupo1= df_2019[df_2019['grupos'] == 1]\n",
        "df_grupo2= df_2019[df_2019['grupos'] == 2]\n",
        "\n",
        "df_grupos= pd.concat([df_grupo0,df_grupo1,df_grupo2])\n",
        "\n",
        "print(pairwise_tukeyhsd(endog = df_grupos['ideb'], groups = df_grupos['grupos'], alpha = 0.05))\n",
        "\n"
      ],
      "metadata": {
        "colab": {
          "base_uri": "https://localhost:8080/"
        },
        "id": "jnp9DH731blQ",
        "outputId": "f18b505b-3594-495f-bee0-adfe61528e9b"
      },
      "execution_count": null,
      "outputs": [
        {
          "output_type": "stream",
          "name": "stdout",
          "text": [
            "Multiple Comparison of Means - Tukey HSD, FWER=0.05\n",
            "===================================================\n",
            "group1 group2 meandiff p-adj  lower   upper  reject\n",
            "---------------------------------------------------\n",
            "     0      1   -1.366 0.001 -1.6605 -1.0715   True\n",
            "     0      2  -0.6384 0.001  -0.909 -0.3678   True\n",
            "     1      2   0.7276 0.001  0.4679  0.9873   True\n",
            "---------------------------------------------------\n"
          ]
        }
      ]
    },
    {
      "cell_type": "code",
      "source": [
        "print(pairwise_tukeyhsd(endog = df_grupos['taxa_aprovacao'], groups = df_grupos['grupos'], alpha = 0.05))"
      ],
      "metadata": {
        "colab": {
          "base_uri": "https://localhost:8080/"
        },
        "id": "NH71nQRxrirg",
        "outputId": "cff0a577-f357-4116-f390-a59e6d6bea1d"
      },
      "execution_count": null,
      "outputs": [
        {
          "output_type": "stream",
          "name": "stdout",
          "text": [
            " Multiple Comparison of Means - Tukey HSD, FWER=0.05 \n",
            "=====================================================\n",
            "group1 group2 meandiff p-adj   lower    upper  reject\n",
            "-----------------------------------------------------\n",
            "     0      1  -9.6883  0.001 -12.6281 -6.7485   True\n",
            "     0      2  -3.6541 0.0068  -6.3555 -0.9526   True\n",
            "     1      2   6.0343  0.001   3.4416  8.6269   True\n",
            "-----------------------------------------------------\n"
          ]
        }
      ]
    },
    {
      "cell_type": "markdown",
      "source": [
        "### Atividade 13: (Para refletir) Como poderíamos fazer a clusterização e visualizar os grupos se tivessemos que usar mais de duas variáveis?\n",
        "\n",
        "Dica: Pesquise sobre Redução de Dimensionalidade, é um assunto bem divertido!"
      ],
      "metadata": {
        "id": "r_po021CjNOz"
      }
    },
    {
      "cell_type": "markdown",
      "source": [
        "Seria interessante fazermos uma redução da dimensionalidade, para verificar quais são as variáveis mais relevantes, podemos verificar quais são as variáveis que tem correlações fortes, pois são redundantes, e desconsiderarmos uma das variáveis que se correlaciona fortemente com outra. Podemos usar três técnicas do Scikit-Learn para fazer a redução, principal component analysis (PCA), LinearDiscriminantAnalysis (LDA), e Isomap."
      ],
      "metadata": {
        "id": "25bjcmXFtLOh"
      }
    }
  ]
}