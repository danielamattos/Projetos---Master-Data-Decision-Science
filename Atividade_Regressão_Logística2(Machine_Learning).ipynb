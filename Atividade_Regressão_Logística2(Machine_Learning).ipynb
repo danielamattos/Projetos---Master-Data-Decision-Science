{
  "nbformat": 4,
  "nbformat_minor": 0,
  "metadata": {
    "colab": {
      "provenance": [],
      "include_colab_link": true
    },
    "kernelspec": {
      "name": "python3",
      "display_name": "Python 3"
    },
    "language_info": {
      "name": "python"
    }
  },
  "cells": [
    {
      "cell_type": "markdown",
      "metadata": {
        "id": "view-in-github",
        "colab_type": "text"
      },
      "source": [
        "<a href=\"https://colab.research.google.com/github/danielamattos/Projetos---Master-Data-Decision-Science/blob/main/Atividade_Regress%C3%A3o_Log%C3%ADstica2(Machine_Learning).ipynb\" target=\"_parent\"><img src=\"https://colab.research.google.com/assets/colab-badge.svg\" alt=\"Open In Colab\"/></a>"
      ]
    },
    {
      "cell_type": "markdown",
      "source": [
        "# Regressão Logística Multinomial\n",
        "\n",
        "Para esta atividade usaremos um conjunto de dados sobre métricas do coração de pacientes, com o objetivo de determinar se o paciente é normal, suspeito ou com doença patológica. O conjunto de dado pode ser encontrado no [GitHub](https://raw.githubusercontent.com/bkrai/R-files-from-YouTube/main/Cardiotocographic.csv) de alguns usuários.\n",
        "\n",
        "Abaixo encontra-se o dicionário de dados:\n",
        "\n",
        "* LB: baseline value (SisPorto)\n",
        "* AC: accelerations (SisPorto)\n",
        "* FM: foetal movement (SisPorto)\n",
        "* UC: uterine contractions (SisPorto)\n",
        "* DL: light decelerations\n",
        "* DS: severe decelerations\n",
        "* DP: prolongued decelerations\n",
        "* ASTV: percentage of time with abnormal short term variability (SisPorto)\n",
        "* mSTV: mean value of short term variability (SisPorto)\n",
        "* ALTV: percentage of time with abnormal long term variability (SisPorto)\n",
        "* mLTV: mean value of long term variability (SisPorto)\n",
        "* Width: histogram width\n",
        "* Min: low freq. of the histogram\n",
        "* Max: high freq. of the histogram\n",
        "* Nmax: number of histogram peaks\n",
        "* Nzeros: number of histogram zeros\n",
        "* Mode: histogram mode\n",
        "* Mean: histogram mean\n",
        "* Median: histogram median\n",
        "* Variance: histogram variance\n",
        "* Tendency: histogram tendency: -1=left assymetric; 0=symmetric; 1=right assymetric\n",
        "* NSP: Normal=0; Suspect=1; Pathologic=2\n",
        "\n",
        "\n",
        "O objetivo é entender/prever a variável `NSP` em função das demais.\n",
        "\n",
        "Obs: Não se preocupe se não entender o significado de cada variável, estamos lidando com um problema técnico e provavelmente você não terá um especialista na área e nem tempo suficiente para entender sobre a área de negócio para este exercício. Foque na construção do modelo de regressão logística."
      ],
      "metadata": {
        "id": "bPYgc7UHk8Wt"
      }
    },
    {
      "cell_type": "markdown",
      "source": [
        "## Atividade 1: Importe o conjunto de dados, verifique se há dados faltantes e a correlação entre as variáveis."
      ],
      "metadata": {
        "id": "YVgM5i4toExb"
      }
    },
    {
      "cell_type": "code",
      "source": [
        "import pandas as pd\n",
        "\n",
        "from google.colab import drive\n",
        "drive.mount('/content/drive')\n"
      ],
      "metadata": {
        "id": "y4uD071Xj9_V",
        "colab": {
          "base_uri": "https://localhost:8080/"
        },
        "outputId": "2d49ff79-f768-4785-ec64-cad96f94a3bb"
      },
      "execution_count": null,
      "outputs": [
        {
          "output_type": "stream",
          "name": "stdout",
          "text": [
            "Mounted at /content/drive\n"
          ]
        }
      ]
    },
    {
      "cell_type": "code",
      "source": [
        "df = pd.read_excel('/content/drive/MyDrive/sirius/cardio.xlsx')\n",
        "\n",
        "df.head()"
      ],
      "metadata": {
        "id": "OGGvBh-Wj96l",
        "colab": {
          "base_uri": "https://localhost:8080/",
          "height": 300
        },
        "outputId": "e91cd86d-c476-4120-991f-6a7ecaa7b12c"
      },
      "execution_count": null,
      "outputs": [
        {
          "output_type": "execute_result",
          "data": {
            "text/plain": [
              "    LB        AC   FM        UC        DL   DS   DP  ASTV  MSTV  ALTV  ...  \\\n",
              "0  120  0.000000  0.0  0.000000  0.000000  0.0  0.0    73   0.5    43  ...   \n",
              "1  132  0.006380  0.0  0.006380  0.003190  0.0  0.0    17   2.1     0  ...   \n",
              "2  133  0.003322  0.0  0.008306  0.003322  0.0  0.0    16   2.1     0  ...   \n",
              "3  134  0.002561  0.0  0.007682  0.002561  0.0  0.0    16   2.4     0  ...   \n",
              "4  132  0.006515  0.0  0.008143  0.000000  0.0  0.0    16   2.4     0  ...   \n",
              "\n",
              "   Min  Max  Nmax  Nzeros  Mode  Mean  Median  Variance  Tendency  NSP  \n",
              "0   62  126     2       0   120   137     121        73         1    1  \n",
              "1   68  198     6       1   141   136     140        12         0    0  \n",
              "2   68  198     5       1   141   135     138        13         0    0  \n",
              "3   53  170    11       0   137   134     137        13         1    0  \n",
              "4   53  170     9       0   137   136     138        11         1    0  \n",
              "\n",
              "[5 rows x 22 columns]"
            ],
            "text/html": [
              "\n",
              "  <div id=\"df-ff46501d-1109-4de2-b3b7-bd8a7e3acb39\">\n",
              "    <div class=\"colab-df-container\">\n",
              "      <div>\n",
              "<style scoped>\n",
              "    .dataframe tbody tr th:only-of-type {\n",
              "        vertical-align: middle;\n",
              "    }\n",
              "\n",
              "    .dataframe tbody tr th {\n",
              "        vertical-align: top;\n",
              "    }\n",
              "\n",
              "    .dataframe thead th {\n",
              "        text-align: right;\n",
              "    }\n",
              "</style>\n",
              "<table border=\"1\" class=\"dataframe\">\n",
              "  <thead>\n",
              "    <tr style=\"text-align: right;\">\n",
              "      <th></th>\n",
              "      <th>LB</th>\n",
              "      <th>AC</th>\n",
              "      <th>FM</th>\n",
              "      <th>UC</th>\n",
              "      <th>DL</th>\n",
              "      <th>DS</th>\n",
              "      <th>DP</th>\n",
              "      <th>ASTV</th>\n",
              "      <th>MSTV</th>\n",
              "      <th>ALTV</th>\n",
              "      <th>...</th>\n",
              "      <th>Min</th>\n",
              "      <th>Max</th>\n",
              "      <th>Nmax</th>\n",
              "      <th>Nzeros</th>\n",
              "      <th>Mode</th>\n",
              "      <th>Mean</th>\n",
              "      <th>Median</th>\n",
              "      <th>Variance</th>\n",
              "      <th>Tendency</th>\n",
              "      <th>NSP</th>\n",
              "    </tr>\n",
              "  </thead>\n",
              "  <tbody>\n",
              "    <tr>\n",
              "      <th>0</th>\n",
              "      <td>120</td>\n",
              "      <td>0.000000</td>\n",
              "      <td>0.0</td>\n",
              "      <td>0.000000</td>\n",
              "      <td>0.000000</td>\n",
              "      <td>0.0</td>\n",
              "      <td>0.0</td>\n",
              "      <td>73</td>\n",
              "      <td>0.5</td>\n",
              "      <td>43</td>\n",
              "      <td>...</td>\n",
              "      <td>62</td>\n",
              "      <td>126</td>\n",
              "      <td>2</td>\n",
              "      <td>0</td>\n",
              "      <td>120</td>\n",
              "      <td>137</td>\n",
              "      <td>121</td>\n",
              "      <td>73</td>\n",
              "      <td>1</td>\n",
              "      <td>1</td>\n",
              "    </tr>\n",
              "    <tr>\n",
              "      <th>1</th>\n",
              "      <td>132</td>\n",
              "      <td>0.006380</td>\n",
              "      <td>0.0</td>\n",
              "      <td>0.006380</td>\n",
              "      <td>0.003190</td>\n",
              "      <td>0.0</td>\n",
              "      <td>0.0</td>\n",
              "      <td>17</td>\n",
              "      <td>2.1</td>\n",
              "      <td>0</td>\n",
              "      <td>...</td>\n",
              "      <td>68</td>\n",
              "      <td>198</td>\n",
              "      <td>6</td>\n",
              "      <td>1</td>\n",
              "      <td>141</td>\n",
              "      <td>136</td>\n",
              "      <td>140</td>\n",
              "      <td>12</td>\n",
              "      <td>0</td>\n",
              "      <td>0</td>\n",
              "    </tr>\n",
              "    <tr>\n",
              "      <th>2</th>\n",
              "      <td>133</td>\n",
              "      <td>0.003322</td>\n",
              "      <td>0.0</td>\n",
              "      <td>0.008306</td>\n",
              "      <td>0.003322</td>\n",
              "      <td>0.0</td>\n",
              "      <td>0.0</td>\n",
              "      <td>16</td>\n",
              "      <td>2.1</td>\n",
              "      <td>0</td>\n",
              "      <td>...</td>\n",
              "      <td>68</td>\n",
              "      <td>198</td>\n",
              "      <td>5</td>\n",
              "      <td>1</td>\n",
              "      <td>141</td>\n",
              "      <td>135</td>\n",
              "      <td>138</td>\n",
              "      <td>13</td>\n",
              "      <td>0</td>\n",
              "      <td>0</td>\n",
              "    </tr>\n",
              "    <tr>\n",
              "      <th>3</th>\n",
              "      <td>134</td>\n",
              "      <td>0.002561</td>\n",
              "      <td>0.0</td>\n",
              "      <td>0.007682</td>\n",
              "      <td>0.002561</td>\n",
              "      <td>0.0</td>\n",
              "      <td>0.0</td>\n",
              "      <td>16</td>\n",
              "      <td>2.4</td>\n",
              "      <td>0</td>\n",
              "      <td>...</td>\n",
              "      <td>53</td>\n",
              "      <td>170</td>\n",
              "      <td>11</td>\n",
              "      <td>0</td>\n",
              "      <td>137</td>\n",
              "      <td>134</td>\n",
              "      <td>137</td>\n",
              "      <td>13</td>\n",
              "      <td>1</td>\n",
              "      <td>0</td>\n",
              "    </tr>\n",
              "    <tr>\n",
              "      <th>4</th>\n",
              "      <td>132</td>\n",
              "      <td>0.006515</td>\n",
              "      <td>0.0</td>\n",
              "      <td>0.008143</td>\n",
              "      <td>0.000000</td>\n",
              "      <td>0.0</td>\n",
              "      <td>0.0</td>\n",
              "      <td>16</td>\n",
              "      <td>2.4</td>\n",
              "      <td>0</td>\n",
              "      <td>...</td>\n",
              "      <td>53</td>\n",
              "      <td>170</td>\n",
              "      <td>9</td>\n",
              "      <td>0</td>\n",
              "      <td>137</td>\n",
              "      <td>136</td>\n",
              "      <td>138</td>\n",
              "      <td>11</td>\n",
              "      <td>1</td>\n",
              "      <td>0</td>\n",
              "    </tr>\n",
              "  </tbody>\n",
              "</table>\n",
              "<p>5 rows × 22 columns</p>\n",
              "</div>\n",
              "      <button class=\"colab-df-convert\" onclick=\"convertToInteractive('df-ff46501d-1109-4de2-b3b7-bd8a7e3acb39')\"\n",
              "              title=\"Convert this dataframe to an interactive table.\"\n",
              "              style=\"display:none;\">\n",
              "        \n",
              "  <svg xmlns=\"http://www.w3.org/2000/svg\" height=\"24px\"viewBox=\"0 0 24 24\"\n",
              "       width=\"24px\">\n",
              "    <path d=\"M0 0h24v24H0V0z\" fill=\"none\"/>\n",
              "    <path d=\"M18.56 5.44l.94 2.06.94-2.06 2.06-.94-2.06-.94-.94-2.06-.94 2.06-2.06.94zm-11 1L8.5 8.5l.94-2.06 2.06-.94-2.06-.94L8.5 2.5l-.94 2.06-2.06.94zm10 10l.94 2.06.94-2.06 2.06-.94-2.06-.94-.94-2.06-.94 2.06-2.06.94z\"/><path d=\"M17.41 7.96l-1.37-1.37c-.4-.4-.92-.59-1.43-.59-.52 0-1.04.2-1.43.59L10.3 9.45l-7.72 7.72c-.78.78-.78 2.05 0 2.83L4 21.41c.39.39.9.59 1.41.59.51 0 1.02-.2 1.41-.59l7.78-7.78 2.81-2.81c.8-.78.8-2.07 0-2.86zM5.41 20L4 18.59l7.72-7.72 1.47 1.35L5.41 20z\"/>\n",
              "  </svg>\n",
              "      </button>\n",
              "      \n",
              "  <style>\n",
              "    .colab-df-container {\n",
              "      display:flex;\n",
              "      flex-wrap:wrap;\n",
              "      gap: 12px;\n",
              "    }\n",
              "\n",
              "    .colab-df-convert {\n",
              "      background-color: #E8F0FE;\n",
              "      border: none;\n",
              "      border-radius: 50%;\n",
              "      cursor: pointer;\n",
              "      display: none;\n",
              "      fill: #1967D2;\n",
              "      height: 32px;\n",
              "      padding: 0 0 0 0;\n",
              "      width: 32px;\n",
              "    }\n",
              "\n",
              "    .colab-df-convert:hover {\n",
              "      background-color: #E2EBFA;\n",
              "      box-shadow: 0px 1px 2px rgba(60, 64, 67, 0.3), 0px 1px 3px 1px rgba(60, 64, 67, 0.15);\n",
              "      fill: #174EA6;\n",
              "    }\n",
              "\n",
              "    [theme=dark] .colab-df-convert {\n",
              "      background-color: #3B4455;\n",
              "      fill: #D2E3FC;\n",
              "    }\n",
              "\n",
              "    [theme=dark] .colab-df-convert:hover {\n",
              "      background-color: #434B5C;\n",
              "      box-shadow: 0px 1px 3px 1px rgba(0, 0, 0, 0.15);\n",
              "      filter: drop-shadow(0px 1px 2px rgba(0, 0, 0, 0.3));\n",
              "      fill: #FFFFFF;\n",
              "    }\n",
              "  </style>\n",
              "\n",
              "      <script>\n",
              "        const buttonEl =\n",
              "          document.querySelector('#df-ff46501d-1109-4de2-b3b7-bd8a7e3acb39 button.colab-df-convert');\n",
              "        buttonEl.style.display =\n",
              "          google.colab.kernel.accessAllowed ? 'block' : 'none';\n",
              "\n",
              "        async function convertToInteractive(key) {\n",
              "          const element = document.querySelector('#df-ff46501d-1109-4de2-b3b7-bd8a7e3acb39');\n",
              "          const dataTable =\n",
              "            await google.colab.kernel.invokeFunction('convertToInteractive',\n",
              "                                                     [key], {});\n",
              "          if (!dataTable) return;\n",
              "\n",
              "          const docLinkHtml = 'Like what you see? Visit the ' +\n",
              "            '<a target=\"_blank\" href=https://colab.research.google.com/notebooks/data_table.ipynb>data table notebook</a>'\n",
              "            + ' to learn more about interactive tables.';\n",
              "          element.innerHTML = '';\n",
              "          dataTable['output_type'] = 'display_data';\n",
              "          await google.colab.output.renderOutput(dataTable, element);\n",
              "          const docLink = document.createElement('div');\n",
              "          docLink.innerHTML = docLinkHtml;\n",
              "          element.appendChild(docLink);\n",
              "        }\n",
              "      </script>\n",
              "    </div>\n",
              "  </div>\n",
              "  "
            ]
          },
          "metadata": {},
          "execution_count": 2
        }
      ]
    },
    {
      "cell_type": "code",
      "source": [
        "df.info()"
      ],
      "metadata": {
        "id": "LQUYPMN0bQlk",
        "colab": {
          "base_uri": "https://localhost:8080/"
        },
        "outputId": "68503d42-a4a5-4437-a85c-7d9ac56eeb9d"
      },
      "execution_count": null,
      "outputs": [
        {
          "output_type": "stream",
          "name": "stdout",
          "text": [
            "<class 'pandas.core.frame.DataFrame'>\n",
            "RangeIndex: 2126 entries, 0 to 2125\n",
            "Data columns (total 22 columns):\n",
            " #   Column    Non-Null Count  Dtype  \n",
            "---  ------    --------------  -----  \n",
            " 0   LB        2126 non-null   int64  \n",
            " 1   AC        2126 non-null   float64\n",
            " 2   FM        2126 non-null   float64\n",
            " 3   UC        2126 non-null   float64\n",
            " 4   DL        2126 non-null   float64\n",
            " 5   DS        2126 non-null   float64\n",
            " 6   DP        2126 non-null   float64\n",
            " 7   ASTV      2126 non-null   int64  \n",
            " 8   MSTV      2126 non-null   float64\n",
            " 9   ALTV      2126 non-null   int64  \n",
            " 10  MLTV      2126 non-null   float64\n",
            " 11  Width     2126 non-null   int64  \n",
            " 12  Min       2126 non-null   int64  \n",
            " 13  Max       2126 non-null   int64  \n",
            " 14  Nmax      2126 non-null   int64  \n",
            " 15  Nzeros    2126 non-null   int64  \n",
            " 16  Mode      2126 non-null   int64  \n",
            " 17  Mean      2126 non-null   int64  \n",
            " 18  Median    2126 non-null   int64  \n",
            " 19  Variance  2126 non-null   int64  \n",
            " 20  Tendency  2126 non-null   int64  \n",
            " 21  NSP       2126 non-null   int64  \n",
            "dtypes: float64(8), int64(14)\n",
            "memory usage: 365.5 KB\n"
          ]
        }
      ]
    },
    {
      "cell_type": "markdown",
      "source": [
        "Não há dados faltantes."
      ],
      "metadata": {
        "id": "FCBv28uUcSuj"
      }
    },
    {
      "cell_type": "markdown",
      "source": [
        "## Atividade 2: Verifique se a variável está balanceada."
      ],
      "metadata": {
        "id": "KTmGalb8ox5h"
      }
    },
    {
      "cell_type": "code",
      "source": [
        "df['NSP'].value_counts()"
      ],
      "metadata": {
        "id": "SrJ6EcNN1TnE",
        "colab": {
          "base_uri": "https://localhost:8080/"
        },
        "outputId": "f27d9fdf-2a4d-48d2-a571-c71978a57267"
      },
      "execution_count": null,
      "outputs": [
        {
          "output_type": "execute_result",
          "data": {
            "text/plain": [
              "0    1655\n",
              "1     295\n",
              "2     176\n",
              "Name: NSP, dtype: int64"
            ]
          },
          "metadata": {},
          "execution_count": 4
        }
      ]
    },
    {
      "cell_type": "code",
      "source": [
        "from imblearn.under_sampling import NearMiss\n",
        "\n",
        "X = df.drop('NSP', axis=1)\n",
        "y = df['NSP']\n",
        "\n",
        "nm = NearMiss(version=1)\n",
        "X_resampled, y_resampled = nm.fit_resample(X, y)"
      ],
      "metadata": {
        "id": "lmEbRSTb0qV3"
      },
      "execution_count": null,
      "outputs": []
    },
    {
      "cell_type": "code",
      "source": [
        "y_resampled.value_counts()"
      ],
      "metadata": {
        "colab": {
          "base_uri": "https://localhost:8080/"
        },
        "id": "7t56YXMz1dSH",
        "outputId": "fafc933b-1188-4cdf-b896-7d689e0e3508"
      },
      "execution_count": null,
      "outputs": [
        {
          "output_type": "execute_result",
          "data": {
            "text/plain": [
              "0    176\n",
              "1    176\n",
              "2    176\n",
              "Name: NSP, dtype: int64"
            ]
          },
          "metadata": {},
          "execution_count": 6
        }
      ]
    },
    {
      "cell_type": "code",
      "source": [
        "df_balanced = pd.concat([pd.DataFrame(X_resampled), pd.DataFrame(y_resampled)], axis=1)\n"
      ],
      "metadata": {
        "id": "SiTR81GZ54U_"
      },
      "execution_count": null,
      "outputs": []
    },
    {
      "cell_type": "markdown",
      "source": [
        "## Atividade 3: Use as variáveis que achar relevante e separe as variáveis em $X$ e $y$, a seguir crie um modelo de regressão logística."
      ],
      "metadata": {
        "id": "B8vkJbh1o8F5"
      }
    },
    {
      "cell_type": "code",
      "source": [
        "import statsmodels.api as sm\n",
        "from statsmodels.discrete.discrete_model import MNLogit\n"
      ],
      "metadata": {
        "id": "ah8kCxBhvLhi"
      },
      "execution_count": null,
      "outputs": []
    },
    {
      "cell_type": "code",
      "source": [
        "X_resampled = sm.add_constant(X_resampled)"
      ],
      "metadata": {
        "id": "AJirtgEwF22Q"
      },
      "execution_count": null,
      "outputs": []
    },
    {
      "cell_type": "code",
      "source": [
        "import numpy as np\n",
        "\n",
        "selected_vars = []\n",
        "\n",
        "# Defina o critério de seleção de variáveis (p-valor máximo)\n",
        "alpha = 0.17\n",
        "\n",
        "# Loop para realizar a seleção de variáveis stepwise\n",
        "for i in range(X_resampled.shape[1]):\n",
        "    # Lista para armazenar os p-valores das variáveis\n",
        "    pvals = []\n",
        "    \n",
        "    # Loop pelas variáveis não selecionadas\n",
        "    for var in X_resampled.columns.difference(selected_vars):\n",
        "        # Crie um modelo MNLogit com as variáveis selecionadas e a variável atual\n",
        "        model = sm.MNLogit(y_resampled, X_resampled[selected_vars + [var]])\n",
        "        \n",
        "        # Ajuste o modelo aos dados\n",
        "        result = model.fit(disp=0)\n",
        "# Armazene o p-valor máximo da variável atual\n",
        "        pvals.append(np.max(result.pvalues.values))\n",
        "# Encontre a variável com o menor p-valor máximo\n",
        "    best_var = X_resampled.columns.difference(selected_vars)[np.argmin(pvals)]\n",
        "    \n",
        "    # Adicione a melhor variável à lista de variáveis selecionadas\n",
        "    selected_vars.append(best_var)\n",
        "    \n",
        "    # Verifique se o p-valor máximo da melhor variável é menor que alpha\n",
        "    if np.min(pvals) > alpha:\n",
        "        # Remova a última variável adicionada (não é significativa)\n",
        "        selected_vars = selected_vars[:-1]\n",
        "        break\n",
        "# Imprima as variáveis selecionadas\n",
        "print('Variáveis selecionadas:', selected_vars)\n",
        "\n",
        "# Crie o modelo MNLogit final com as variáveis selecionadas\n",
        "model = sm.MNLogit(y_resampled, X_resampled[selected_vars])\n",
        "\n",
        "# Ajuste o modelo aos dados\n",
        "result = model.fit()\n",
        "\n",
        "# Imprima um resumo dos resultados\n",
        "print(result.summary())"
      ],
      "metadata": {
        "colab": {
          "base_uri": "https://localhost:8080/"
        },
        "id": "1KWlzzGqFP1w",
        "outputId": "331f9da0-0ad0-4184-9ebc-f1046095b951"
      },
      "execution_count": null,
      "outputs": [
        {
          "output_type": "stream",
          "name": "stderr",
          "text": [
            "/usr/local/lib/python3.10/dist-packages/statsmodels/base/model.py:604: ConvergenceWarning: Maximum Likelihood optimization failed to converge. Check mle_retvals\n",
            "  warnings.warn(\"Maximum Likelihood optimization failed to \"\n",
            "/usr/local/lib/python3.10/dist-packages/statsmodels/base/model.py:604: ConvergenceWarning: Maximum Likelihood optimization failed to converge. Check mle_retvals\n",
            "  warnings.warn(\"Maximum Likelihood optimization failed to \"\n",
            "/usr/local/lib/python3.10/dist-packages/statsmodels/base/model.py:604: ConvergenceWarning: Maximum Likelihood optimization failed to converge. Check mle_retvals\n",
            "  warnings.warn(\"Maximum Likelihood optimization failed to \"\n",
            "/usr/local/lib/python3.10/dist-packages/statsmodels/base/model.py:604: ConvergenceWarning: Maximum Likelihood optimization failed to converge. Check mle_retvals\n",
            "  warnings.warn(\"Maximum Likelihood optimization failed to \"\n",
            "/usr/local/lib/python3.10/dist-packages/statsmodels/base/model.py:604: ConvergenceWarning: Maximum Likelihood optimization failed to converge. Check mle_retvals\n",
            "  warnings.warn(\"Maximum Likelihood optimization failed to \"\n",
            "/usr/local/lib/python3.10/dist-packages/statsmodels/base/model.py:604: ConvergenceWarning: Maximum Likelihood optimization failed to converge. Check mle_retvals\n",
            "  warnings.warn(\"Maximum Likelihood optimization failed to \"\n"
          ]
        },
        {
          "output_type": "stream",
          "name": "stdout",
          "text": [
            "Variáveis selecionadas: ['Variance', 'MLTV', 'AC', 'FM', 'UC', 'ALTV']\n",
            "Optimization terminated successfully.\n",
            "         Current function value: 0.671450\n",
            "         Iterations 10\n",
            "                          MNLogit Regression Results                          \n",
            "==============================================================================\n",
            "Dep. Variable:                    NSP   No. Observations:                  528\n",
            "Model:                        MNLogit   Df Residuals:                      516\n",
            "Method:                           MLE   Df Model:                           10\n",
            "Date:                Mon, 22 May 2023   Pseudo R-squ.:                  0.3888\n",
            "Time:                        22:36:53   Log-Likelihood:                -354.53\n",
            "converged:                       True   LL-Null:                       -580.07\n",
            "Covariance Type:            nonrobust   LLR p-value:                 1.227e-90\n",
            "==============================================================================\n",
            "     NSP=1       coef    std err          z      P>|z|      [0.025      0.975]\n",
            "------------------------------------------------------------------------------\n",
            "Variance      -0.0315      0.020     -1.574      0.116      -0.071       0.008\n",
            "MLTV           0.1117      0.029      3.797      0.000       0.054       0.169\n",
            "AC          -479.3867    137.955     -3.475      0.001    -749.773    -209.000\n",
            "FM            55.3576     31.122      1.779      0.075      -5.641     116.356\n",
            "UC          -304.4437     42.952     -7.088      0.000    -388.628    -220.260\n",
            "ALTV           0.0199      0.005      3.871      0.000       0.010       0.030\n",
            "------------------------------------------------------------------------------\n",
            "     NSP=2       coef    std err          z      P>|z|      [0.025      0.975]\n",
            "------------------------------------------------------------------------------\n",
            "Variance       0.0901      0.010      8.704      0.000       0.070       0.110\n",
            "MLTV          -0.2290      0.042     -5.419      0.000      -0.312      -0.146\n",
            "AC          -719.0477    176.076     -4.084      0.000   -1064.150    -373.946\n",
            "FM            63.2727     31.285      2.022      0.043       1.955     124.591\n",
            "UC          -360.2937     48.058     -7.497      0.000    -454.486    -266.102\n",
            "ALTV           0.0413      0.006      7.036      0.000       0.030       0.053\n",
            "==============================================================================\n"
          ]
        },
        {
          "output_type": "stream",
          "name": "stderr",
          "text": [
            "/usr/local/lib/python3.10/dist-packages/statsmodels/base/model.py:604: ConvergenceWarning: Maximum Likelihood optimization failed to converge. Check mle_retvals\n",
            "  warnings.warn(\"Maximum Likelihood optimization failed to \"\n"
          ]
        }
      ]
    },
    {
      "cell_type": "markdown",
      "source": [
        "Utilizamos as variáveis MLTV, AC, FM, UC e ALTV, utilizando o método Stepwise."
      ],
      "metadata": {
        "id": "hcbnEt-ScpP3"
      }
    },
    {
      "cell_type": "markdown",
      "source": [
        "## Atividade 4: Faça previsões e avalie o modelo."
      ],
      "metadata": {
        "id": "9VHtr2fppc4h"
      }
    },
    {
      "cell_type": "code",
      "source": [
        "x_result = X_resampled[['Variance','MLTV','AC','FM','UC','ALTV']]"
      ],
      "metadata": {
        "id": "n8QwhzkTPiDs"
      },
      "execution_count": null,
      "outputs": []
    },
    {
      "cell_type": "code",
      "source": [
        "y_pred = result.predict(x_result).idxmax(axis=1)"
      ],
      "metadata": {
        "id": "cmsvHjrEmd3b"
      },
      "execution_count": null,
      "outputs": []
    },
    {
      "cell_type": "code",
      "source": [
        "from sklearn.metrics import confusion_matrix\n",
        "\n",
        "matriz_confusao = confusion_matrix(y_resampled, y_pred)\n",
        "matriz_confusao"
      ],
      "metadata": {
        "id": "hv7AEF01Pt0y",
        "colab": {
          "base_uri": "https://localhost:8080/"
        },
        "outputId": "847d5caa-1837-4816-cb58-71d519739d9b"
      },
      "execution_count": null,
      "outputs": [
        {
          "output_type": "execute_result",
          "data": {
            "text/plain": [
              "array([[124,  41,  11],\n",
              "       [ 34, 138,   4],\n",
              "       [ 24,  28, 124]])"
            ]
          },
          "metadata": {},
          "execution_count": 42
        }
      ]
    },
    {
      "cell_type": "code",
      "source": [
        "import seaborn as sns\n",
        "import matplotlib.pyplot as plt\n",
        "\n",
        "sns.heatmap(matriz_confusao, annot=True, fmt='d', cmap='Blues')\n",
        "plt.title('Matriz de Confusão', y=1.1)\n",
        "plt.ylabel('Valores Observados')\n",
        "plt.xlabel('Valores Preditos');"
      ],
      "metadata": {
        "id": "UpCr12avAR5f",
        "colab": {
          "base_uri": "https://localhost:8080/",
          "height": 509
        },
        "outputId": "c9b135df-bc2c-4777-f604-99ee48340fe4"
      },
      "execution_count": null,
      "outputs": [
        {
          "output_type": "display_data",
          "data": {
            "text/plain": [
              "<Figure size 640x480 with 2 Axes>"
            ],
            "image/png": "[encoded data removed]"
          },
          "metadata": {}
        }
      ]
    },
    {
      "cell_type": "code",
      "source": [
        "from sklearn.metrics import classification_report\n",
        "\n",
        "print(classification_report(y_resampled, y_pred))"
      ],
      "metadata": {
        "id": "9uen0B9OQr6H",
        "colab": {
          "base_uri": "https://localhost:8080/"
        },
        "outputId": "4ea34872-e348-4a06-8b19-ba65d8b984b5"
      },
      "execution_count": null,
      "outputs": [
        {
          "output_type": "stream",
          "name": "stdout",
          "text": [
            "              precision    recall  f1-score   support\n",
            "\n",
            "           0       0.68      0.70      0.69       176\n",
            "           1       0.67      0.78      0.72       176\n",
            "           2       0.89      0.70      0.79       176\n",
            "\n",
            "    accuracy                           0.73       528\n",
            "   macro avg       0.75      0.73      0.73       528\n",
            "weighted avg       0.75      0.73      0.73       528\n",
            "\n"
          ]
        }
      ]
    },
    {
      "cell_type": "markdown",
      "source": [
        "Analisando os resultados da classificação do modelo, notamos que o modelo possui uma acurácia considerável, apesar de não tão alta, de 0.73, o que significa que o modelo está acertando 73% dos valores de y. Entre os positivos observados dos patológicos, está acertando 89% dos casos, o que é um valor bem significativo. Já analisando o recall, está acertando só 70% dos verdadeiros positivos da classe 2, então está deixando de acertar 30% dos casos patológicos. O modelo possui um pseudo R² baixo, o que também não é um bom indicativo, significa que o modelo está prevendo só 38% da variabilidade."
      ],
      "metadata": {
        "id": "fjBeJyW8c-eP"
      }
    },
    {
      "cell_type": "code",
      "source": [
        "from sklearn.preprocessing import label_binarize\n",
        "from sklearn.metrics import roc_curve, roc_auc_score, auc\n",
        "\n",
        "y_cat = label_binarize(y_resampled, classes=[0, 1, 2])\n",
        "\n",
        "fpr = dict()\n",
        "tpr = dict()\n",
        "roc_auc = dict()\n",
        "n_classes = 3\n",
        "colors = ['blue','black','green']\n",
        "\n",
        "for i in range(n_classes):\n",
        "    fpr[i], tpr[i], _ = roc_curve(y_cat[:, i], result.predict(x_result).iloc[:,i])\n",
        "    roc_auc[i] = auc(fpr[i], tpr[i])\n",
        "\n",
        "for i, color in zip(range(n_classes), colors):\n",
        "    plt.plot(fpr[i], tpr[i], color=color, lw=2,\n",
        "             label=f'Curva ROC para a classe {i} (area = {round(roc_auc[i], 2)})')\n",
        "\n",
        "plt.plot([0, 1], [0, 1], 'r--')\n",
        "plt.xlabel('Taxa de Falso Positivo')\n",
        "plt.ylabel('Taxa de Verdadeiro Positivo')\n",
        "plt.title('Curva ROC para muitas classes')\n",
        "plt.legend(loc=\"lower right\");"
      ],
      "metadata": {
        "id": "nscwn8QmRCK4",
        "colab": {
          "base_uri": "https://localhost:8080/",
          "height": 472
        },
        "outputId": "6fd1ffe9-1502-48cd-c723-9c3fcc261df5"
      },
      "execution_count": null,
      "outputs": [
        {
          "output_type": "display_data",
          "data": {
            "text/plain": [
              "<Figure size 640x480 with 1 Axes>"
            ],
            "image/png": "[encoded data removed]"
          },
          "metadata": {}
        }
      ]
    },
    {
      "cell_type": "markdown",
      "source": [
        "A curva ROC deu próxima de 1 para as três categorias, o que é um bom indicativo para o modelo."
      ],
      "metadata": {
        "id": "kn7Qt1NKgO_g"
      }
    },
    {
      "cell_type": "markdown",
      "source": [
        "## Atividade 5: Faça a previsão para um paciente que apresenta as seguintes características:\n",
        "\n",
        "* `LB` = 121\n",
        "* `AC` = 0.004176\n",
        "* `FM` = 0.0\n",
        "* `UC` = 0.007541\n",
        "* `DL` = 0.003176\n",
        "* `DS` = 0.0\n",
        "* `DP` = 0.0\n",
        "* `ASTV` = 20\n",
        "* `mSTV` = 2.3\n",
        "* `ALTV` = 0\n",
        "* `mLTV` = 11.5\n",
        "* `Width` = 129\n",
        "* `Min` = 54\n",
        "* `Max` = 171\n",
        "* `Nmax` = 5\n",
        "* `Nzeros` = 0\n",
        "* `Mode` = 140\n",
        "* `Mean` = 136\n",
        "* `Median` = 123\n",
        "* `Variance` = 14\n",
        "* `Tendency` = 1"
      ],
      "metadata": {
        "id": "U2QDyKPU1asW"
      }
    },
    {
      "cell_type": "code",
      "source": [
        "lista = [14, 11.5, 0.004176, 0.0, 0.007541, 0]\n"
      ],
      "metadata": {
        "id": "Ir5gqOy72BLQ"
      },
      "execution_count": null,
      "outputs": []
    },
    {
      "cell_type": "code",
      "source": [
        "X_prev = pd.DataFrame({'Variance':[14], 'MLTV':[11.5], 'AC':[0.004176], 'FM':[0.0], 'UC':[0.007541], 'ALTV':[0]})\n",
        "result.predict(X_prev)\n",
        "y_pred2 = result.predict(X_prev).idxmax(axis=1)[0]\n",
        "y_pred2"
      ],
      "metadata": {
        "colab": {
          "base_uri": "https://localhost:8080/"
        },
        "id": "ugnxB26GTEJH",
        "outputId": "21196407-f579-4fe2-d749-e81a1315dc12"
      },
      "execution_count": null,
      "outputs": [
        {
          "output_type": "execute_result",
          "data": {
            "text/plain": [
              "0"
            ]
          },
          "metadata": {},
          "execution_count": 18
        }
      ]
    },
    {
      "cell_type": "code",
      "source": [
        "result.predict(lista)"
      ],
      "metadata": {
        "id": "sJByYbo_2Hle",
        "colab": {
          "base_uri": "https://localhost:8080/"
        },
        "outputId": "128eb5ae-c2d4-4be2-86dc-7eaf5e0b841b"
      },
      "execution_count": null,
      "outputs": [
        {
          "output_type": "execute_result",
          "data": {
            "text/plain": [
              "array([[9.68560249e-01, 3.06346625e-02, 8.05088327e-04]])"
            ]
          },
          "metadata": {},
          "execution_count": 19
        }
      ]
    },
    {
      "cell_type": "markdown",
      "source": [
        "O resultado indica que o paciente pertence ao grupo 0, ou seja, é um paciente saudável."
      ],
      "metadata": {
        "id": "XKl-_-jdgfiB"
      }
    }
  ]
}