{
  "nbformat": 4,
  "nbformat_minor": 0,
  "metadata": {
    "colab": {
      "provenance": [],
      "include_colab_link": true
    },
    "kernelspec": {
      "name": "python3",
      "display_name": "Python 3"
    },
    "language_info": {
      "name": "python"
    }
  },
  "cells": [
    {
      "cell_type": "markdown",
      "metadata": {
        "id": "view-in-github",
        "colab_type": "text"
      },
      "source": [
        "<a href=\"https://colab.research.google.com/github/danielamattos/Projetos---Master-Data-Decision-Science/blob/main/Atividade_Regress%C3%A3o_Log%C3%ADstica(Machine_Learning).ipynb\" target=\"_parent\"><img src=\"https://colab.research.google.com/assets/colab-badge.svg\" alt=\"Open In Colab\"/></a>"
      ]
    },
    {
      "cell_type": "markdown",
      "source": [
        "# Regressão Logística Binária\n",
        "\n",
        "Para está atividade iremos utilizar um dataset sobre fraudes em cartão de crédito obtido do [kaggle](https://www.kaggle.com/datasets/dhanushnarayananr/credit-card-fraud?select=card_transdata.csv).\n",
        "\n",
        "Esse conjunto de dados possui as variáveis:\n",
        "\n",
        "* distance_from_home - distância entre a casa e o local onde a transação foi feita.\n",
        "\n",
        "* distance_from_last_transaction - a distância do local em que a última transação ocorreu.\n",
        "\n",
        "* ratio_to_median_purchase_price - Razão entre preço da transação e o preço médio de transação.\n",
        "\n",
        "* repeat_retailer - Se a transação ocorreu na mesma loja.\n",
        "\n",
        "* used_chip - Se a transação foi feita com cartão de crédito.\n",
        "\n",
        "* used_pin_number - Se a transação ocorreu usando número PIN.\n",
        "\n",
        "* online_order - Se a transação foi online.\n",
        "\n",
        "* fraud - Se a transação é fraudulenta.\n"
      ],
      "metadata": {
        "id": "bPYgc7UHk8Wt"
      }
    },
    {
      "cell_type": "code",
      "source": [
        "from google.colab import drive\n",
        "drive.mount('/content/drive')"
      ],
      "metadata": {
        "colab": {
          "base_uri": "https://localhost:8080/"
        },
        "id": "IodNtZzyD-IH",
        "outputId": "69c11444-a0c7-4c9d-819d-41c3b7bce709"
      },
      "execution_count": null,
      "outputs": [
        {
          "output_type": "stream",
          "name": "stdout",
          "text": [
            "Mounted at /content/drive\n"
          ]
        }
      ]
    },
    {
      "cell_type": "markdown",
      "source": [
        "## Atividade 1: Carregue os dados e verifique se há dados faltantes. Se houver, faça o tratamento que julgar adequado."
      ],
      "metadata": {
        "id": "ynczv8RdtupL"
      }
    },
    {
      "cell_type": "code",
      "source": [
        "import pandas as pd\n",
        "\n",
        "df = pd.read_csv('/content/drive/MyDrive/sirius/card_transdata.csv')\n",
        "\n",
        "df.head()"
      ],
      "metadata": {
        "id": "y4uD071Xj9_V",
        "colab": {
          "base_uri": "https://localhost:8080/",
          "height": 206
        },
        "outputId": "3a9071cb-e3bd-4524-b33a-72e7ae26c56c"
      },
      "execution_count": null,
      "outputs": [
        {
          "output_type": "execute_result",
          "data": {
            "text/plain": [
              "   distance_from_home  distance_from_last_transaction  \\\n",
              "0           57.877857                        0.311140   \n",
              "1           10.829943                        0.175592   \n",
              "2            5.091079                        0.805153   \n",
              "3            2.247564                        5.600044   \n",
              "4           44.190936                        0.566486   \n",
              "\n",
              "   ratio_to_median_purchase_price  repeat_retailer  used_chip  \\\n",
              "0                        1.945940              1.0        1.0   \n",
              "1                        1.294219              1.0        0.0   \n",
              "2                        0.427715              1.0        0.0   \n",
              "3                        0.362663              1.0        1.0   \n",
              "4                        2.222767              1.0        1.0   \n",
              "\n",
              "   used_pin_number  online_order  fraud  \n",
              "0              0.0           0.0    0.0  \n",
              "1              0.0           0.0    0.0  \n",
              "2              0.0           1.0    0.0  \n",
              "3              0.0           1.0    0.0  \n",
              "4              0.0           1.0    0.0  "
            ],
            "text/html": [
              "\n",
              "  <div id=\"df-d5d8f7bc-a1ef-4731-9ec9-524577eaeec7\">\n",
              "    <div class=\"colab-df-container\">\n",
              "      <div>\n",
              "<style scoped>\n",
              "    .dataframe tbody tr th:only-of-type {\n",
              "        vertical-align: middle;\n",
              "    }\n",
              "\n",
              "    .dataframe tbody tr th {\n",
              "        vertical-align: top;\n",
              "    }\n",
              "\n",
              "    .dataframe thead th {\n",
              "        text-align: right;\n",
              "    }\n",
              "</style>\n",
              "<table border=\"1\" class=\"dataframe\">\n",
              "  <thead>\n",
              "    <tr style=\"text-align: right;\">\n",
              "      <th></th>\n",
              "      <th>distance_from_home</th>\n",
              "      <th>distance_from_last_transaction</th>\n",
              "      <th>ratio_to_median_purchase_price</th>\n",
              "      <th>repeat_retailer</th>\n",
              "      <th>used_chip</th>\n",
              "      <th>used_pin_number</th>\n",
              "      <th>online_order</th>\n",
              "      <th>fraud</th>\n",
              "    </tr>\n",
              "  </thead>\n",
              "  <tbody>\n",
              "    <tr>\n",
              "      <th>0</th>\n",
              "      <td>57.877857</td>\n",
              "      <td>0.311140</td>\n",
              "      <td>1.945940</td>\n",
              "      <td>1.0</td>\n",
              "      <td>1.0</td>\n",
              "      <td>0.0</td>\n",
              "      <td>0.0</td>\n",
              "      <td>0.0</td>\n",
              "    </tr>\n",
              "    <tr>\n",
              "      <th>1</th>\n",
              "      <td>10.829943</td>\n",
              "      <td>0.175592</td>\n",
              "      <td>1.294219</td>\n",
              "      <td>1.0</td>\n",
              "      <td>0.0</td>\n",
              "      <td>0.0</td>\n",
              "      <td>0.0</td>\n",
              "      <td>0.0</td>\n",
              "    </tr>\n",
              "    <tr>\n",
              "      <th>2</th>\n",
              "      <td>5.091079</td>\n",
              "      <td>0.805153</td>\n",
              "      <td>0.427715</td>\n",
              "      <td>1.0</td>\n",
              "      <td>0.0</td>\n",
              "      <td>0.0</td>\n",
              "      <td>1.0</td>\n",
              "      <td>0.0</td>\n",
              "    </tr>\n",
              "    <tr>\n",
              "      <th>3</th>\n",
              "      <td>2.247564</td>\n",
              "      <td>5.600044</td>\n",
              "      <td>0.362663</td>\n",
              "      <td>1.0</td>\n",
              "      <td>1.0</td>\n",
              "      <td>0.0</td>\n",
              "      <td>1.0</td>\n",
              "      <td>0.0</td>\n",
              "    </tr>\n",
              "    <tr>\n",
              "      <th>4</th>\n",
              "      <td>44.190936</td>\n",
              "      <td>0.566486</td>\n",
              "      <td>2.222767</td>\n",
              "      <td>1.0</td>\n",
              "      <td>1.0</td>\n",
              "      <td>0.0</td>\n",
              "      <td>1.0</td>\n",
              "      <td>0.0</td>\n",
              "    </tr>\n",
              "  </tbody>\n",
              "</table>\n",
              "</div>\n",
              "      <button class=\"colab-df-convert\" onclick=\"convertToInteractive('df-d5d8f7bc-a1ef-4731-9ec9-524577eaeec7')\"\n",
              "              title=\"Convert this dataframe to an interactive table.\"\n",
              "              style=\"display:none;\">\n",
              "        \n",
              "  <svg xmlns=\"http://www.w3.org/2000/svg\" height=\"24px\"viewBox=\"0 0 24 24\"\n",
              "       width=\"24px\">\n",
              "    <path d=\"M0 0h24v24H0V0z\" fill=\"none\"/>\n",
              "    <path d=\"M18.56 5.44l.94 2.06.94-2.06 2.06-.94-2.06-.94-.94-2.06-.94 2.06-2.06.94zm-11 1L8.5 8.5l.94-2.06 2.06-.94-2.06-.94L8.5 2.5l-.94 2.06-2.06.94zm10 10l.94 2.06.94-2.06 2.06-.94-2.06-.94-.94-2.06-.94 2.06-2.06.94z\"/><path d=\"M17.41 7.96l-1.37-1.37c-.4-.4-.92-.59-1.43-.59-.52 0-1.04.2-1.43.59L10.3 9.45l-7.72 7.72c-.78.78-.78 2.05 0 2.83L4 21.41c.39.39.9.59 1.41.59.51 0 1.02-.2 1.41-.59l7.78-7.78 2.81-2.81c.8-.78.8-2.07 0-2.86zM5.41 20L4 18.59l7.72-7.72 1.47 1.35L5.41 20z\"/>\n",
              "  </svg>\n",
              "      </button>\n",
              "      \n",
              "  <style>\n",
              "    .colab-df-container {\n",
              "      display:flex;\n",
              "      flex-wrap:wrap;\n",
              "      gap: 12px;\n",
              "    }\n",
              "\n",
              "    .colab-df-convert {\n",
              "      background-color: #E8F0FE;\n",
              "      border: none;\n",
              "      border-radius: 50%;\n",
              "      cursor: pointer;\n",
              "      display: none;\n",
              "      fill: #1967D2;\n",
              "      height: 32px;\n",
              "      padding: 0 0 0 0;\n",
              "      width: 32px;\n",
              "    }\n",
              "\n",
              "    .colab-df-convert:hover {\n",
              "      background-color: #E2EBFA;\n",
              "      box-shadow: 0px 1px 2px rgba(60, 64, 67, 0.3), 0px 1px 3px 1px rgba(60, 64, 67, 0.15);\n",
              "      fill: #174EA6;\n",
              "    }\n",
              "\n",
              "    [theme=dark] .colab-df-convert {\n",
              "      background-color: #3B4455;\n",
              "      fill: #D2E3FC;\n",
              "    }\n",
              "\n",
              "    [theme=dark] .colab-df-convert:hover {\n",
              "      background-color: #434B5C;\n",
              "      box-shadow: 0px 1px 3px 1px rgba(0, 0, 0, 0.15);\n",
              "      filter: drop-shadow(0px 1px 2px rgba(0, 0, 0, 0.3));\n",
              "      fill: #FFFFFF;\n",
              "    }\n",
              "  </style>\n",
              "\n",
              "      <script>\n",
              "        const buttonEl =\n",
              "          document.querySelector('#df-d5d8f7bc-a1ef-4731-9ec9-524577eaeec7 button.colab-df-convert');\n",
              "        buttonEl.style.display =\n",
              "          google.colab.kernel.accessAllowed ? 'block' : 'none';\n",
              "\n",
              "        async function convertToInteractive(key) {\n",
              "          const element = document.querySelector('#df-d5d8f7bc-a1ef-4731-9ec9-524577eaeec7');\n",
              "          const dataTable =\n",
              "            await google.colab.kernel.invokeFunction('convertToInteractive',\n",
              "                                                     [key], {});\n",
              "          if (!dataTable) return;\n",
              "\n",
              "          const docLinkHtml = 'Like what you see? Visit the ' +\n",
              "            '<a target=\"_blank\" href=https://colab.research.google.com/notebooks/data_table.ipynb>data table notebook</a>'\n",
              "            + ' to learn more about interactive tables.';\n",
              "          element.innerHTML = '';\n",
              "          dataTable['output_type'] = 'display_data';\n",
              "          await google.colab.output.renderOutput(dataTable, element);\n",
              "          const docLink = document.createElement('div');\n",
              "          docLink.innerHTML = docLinkHtml;\n",
              "          element.appendChild(docLink);\n",
              "        }\n",
              "      </script>\n",
              "    </div>\n",
              "  </div>\n",
              "  "
            ]
          },
          "metadata": {},
          "execution_count": 2
        }
      ]
    },
    {
      "cell_type": "code",
      "source": [
        "df.info()"
      ],
      "metadata": {
        "id": "OGGvBh-Wj96l",
        "colab": {
          "base_uri": "https://localhost:8080/"
        },
        "outputId": "218f0f4b-7b0e-49de-f811-2ce06da7bef7"
      },
      "execution_count": null,
      "outputs": [
        {
          "output_type": "stream",
          "name": "stdout",
          "text": [
            "<class 'pandas.core.frame.DataFrame'>\n",
            "RangeIndex: 1000000 entries, 0 to 999999\n",
            "Data columns (total 8 columns):\n",
            " #   Column                          Non-Null Count    Dtype  \n",
            "---  ------                          --------------    -----  \n",
            " 0   distance_from_home              1000000 non-null  float64\n",
            " 1   distance_from_last_transaction  1000000 non-null  float64\n",
            " 2   ratio_to_median_purchase_price  1000000 non-null  float64\n",
            " 3   repeat_retailer                 1000000 non-null  float64\n",
            " 4   used_chip                       1000000 non-null  float64\n",
            " 5   used_pin_number                 1000000 non-null  float64\n",
            " 6   online_order                    1000000 non-null  float64\n",
            " 7   fraud                           1000000 non-null  float64\n",
            "dtypes: float64(8)\n",
            "memory usage: 61.0 MB\n"
          ]
        }
      ]
    },
    {
      "cell_type": "markdown",
      "source": [
        "Não há nenhum dado faltante."
      ],
      "metadata": {
        "id": "2G4cIgpt1eAO"
      }
    },
    {
      "cell_type": "markdown",
      "source": [
        "Obs: Na célula abaixo há um código para renomear as colunas."
      ],
      "metadata": {
        "id": "DG6ZjW99gg5E"
      }
    },
    {
      "cell_type": "code",
      "source": [
        "# renomeando as colunas\n",
        "df.columns = ['dist_casa','dist_ultima_transacao','razao_preco_medio',\n",
        "              'loja_repetida','usou_chip','usou_pin','online','fraude']"
      ],
      "metadata": {
        "id": "lwZcqLAzQrS4"
      },
      "execution_count": null,
      "outputs": []
    },
    {
      "cell_type": "code",
      "source": [
        "df.head()"
      ],
      "metadata": {
        "colab": {
          "base_uri": "https://localhost:8080/",
          "height": 206
        },
        "id": "EcTDuDSxEuWB",
        "outputId": "b88d47aa-b15b-4109-e396-314665c87cd0"
      },
      "execution_count": null,
      "outputs": [
        {
          "output_type": "execute_result",
          "data": {
            "text/plain": [
              "   dist_casa  dist_ultima_transacao  razao_preco_medio  loja_repetida  \\\n",
              "0  57.877857               0.311140           1.945940            1.0   \n",
              "1  10.829943               0.175592           1.294219            1.0   \n",
              "2   5.091079               0.805153           0.427715            1.0   \n",
              "3   2.247564               5.600044           0.362663            1.0   \n",
              "4  44.190936               0.566486           2.222767            1.0   \n",
              "\n",
              "   usou_chip  usou_pin  online  fraude  \n",
              "0        1.0       0.0     0.0     0.0  \n",
              "1        0.0       0.0     0.0     0.0  \n",
              "2        0.0       0.0     1.0     0.0  \n",
              "3        1.0       0.0     1.0     0.0  \n",
              "4        1.0       0.0     1.0     0.0  "
            ],
            "text/html": [
              "\n",
              "  <div id=\"df-c351e63f-c38f-4a44-9a7f-4bb3cfe064e2\">\n",
              "    <div class=\"colab-df-container\">\n",
              "      <div>\n",
              "<style scoped>\n",
              "    .dataframe tbody tr th:only-of-type {\n",
              "        vertical-align: middle;\n",
              "    }\n",
              "\n",
              "    .dataframe tbody tr th {\n",
              "        vertical-align: top;\n",
              "    }\n",
              "\n",
              "    .dataframe thead th {\n",
              "        text-align: right;\n",
              "    }\n",
              "</style>\n",
              "<table border=\"1\" class=\"dataframe\">\n",
              "  <thead>\n",
              "    <tr style=\"text-align: right;\">\n",
              "      <th></th>\n",
              "      <th>dist_casa</th>\n",
              "      <th>dist_ultima_transacao</th>\n",
              "      <th>razao_preco_medio</th>\n",
              "      <th>loja_repetida</th>\n",
              "      <th>usou_chip</th>\n",
              "      <th>usou_pin</th>\n",
              "      <th>online</th>\n",
              "      <th>fraude</th>\n",
              "    </tr>\n",
              "  </thead>\n",
              "  <tbody>\n",
              "    <tr>\n",
              "      <th>0</th>\n",
              "      <td>57.877857</td>\n",
              "      <td>0.311140</td>\n",
              "      <td>1.945940</td>\n",
              "      <td>1.0</td>\n",
              "      <td>1.0</td>\n",
              "      <td>0.0</td>\n",
              "      <td>0.0</td>\n",
              "      <td>0.0</td>\n",
              "    </tr>\n",
              "    <tr>\n",
              "      <th>1</th>\n",
              "      <td>10.829943</td>\n",
              "      <td>0.175592</td>\n",
              "      <td>1.294219</td>\n",
              "      <td>1.0</td>\n",
              "      <td>0.0</td>\n",
              "      <td>0.0</td>\n",
              "      <td>0.0</td>\n",
              "      <td>0.0</td>\n",
              "    </tr>\n",
              "    <tr>\n",
              "      <th>2</th>\n",
              "      <td>5.091079</td>\n",
              "      <td>0.805153</td>\n",
              "      <td>0.427715</td>\n",
              "      <td>1.0</td>\n",
              "      <td>0.0</td>\n",
              "      <td>0.0</td>\n",
              "      <td>1.0</td>\n",
              "      <td>0.0</td>\n",
              "    </tr>\n",
              "    <tr>\n",
              "      <th>3</th>\n",
              "      <td>2.247564</td>\n",
              "      <td>5.600044</td>\n",
              "      <td>0.362663</td>\n",
              "      <td>1.0</td>\n",
              "      <td>1.0</td>\n",
              "      <td>0.0</td>\n",
              "      <td>1.0</td>\n",
              "      <td>0.0</td>\n",
              "    </tr>\n",
              "    <tr>\n",
              "      <th>4</th>\n",
              "      <td>44.190936</td>\n",
              "      <td>0.566486</td>\n",
              "      <td>2.222767</td>\n",
              "      <td>1.0</td>\n",
              "      <td>1.0</td>\n",
              "      <td>0.0</td>\n",
              "      <td>1.0</td>\n",
              "      <td>0.0</td>\n",
              "    </tr>\n",
              "  </tbody>\n",
              "</table>\n",
              "</div>\n",
              "      <button class=\"colab-df-convert\" onclick=\"convertToInteractive('df-c351e63f-c38f-4a44-9a7f-4bb3cfe064e2')\"\n",
              "              title=\"Convert this dataframe to an interactive table.\"\n",
              "              style=\"display:none;\">\n",
              "        \n",
              "  <svg xmlns=\"http://www.w3.org/2000/svg\" height=\"24px\"viewBox=\"0 0 24 24\"\n",
              "       width=\"24px\">\n",
              "    <path d=\"M0 0h24v24H0V0z\" fill=\"none\"/>\n",
              "    <path d=\"M18.56 5.44l.94 2.06.94-2.06 2.06-.94-2.06-.94-.94-2.06-.94 2.06-2.06.94zm-11 1L8.5 8.5l.94-2.06 2.06-.94-2.06-.94L8.5 2.5l-.94 2.06-2.06.94zm10 10l.94 2.06.94-2.06 2.06-.94-2.06-.94-.94-2.06-.94 2.06-2.06.94z\"/><path d=\"M17.41 7.96l-1.37-1.37c-.4-.4-.92-.59-1.43-.59-.52 0-1.04.2-1.43.59L10.3 9.45l-7.72 7.72c-.78.78-.78 2.05 0 2.83L4 21.41c.39.39.9.59 1.41.59.51 0 1.02-.2 1.41-.59l7.78-7.78 2.81-2.81c.8-.78.8-2.07 0-2.86zM5.41 20L4 18.59l7.72-7.72 1.47 1.35L5.41 20z\"/>\n",
              "  </svg>\n",
              "      </button>\n",
              "      \n",
              "  <style>\n",
              "    .colab-df-container {\n",
              "      display:flex;\n",
              "      flex-wrap:wrap;\n",
              "      gap: 12px;\n",
              "    }\n",
              "\n",
              "    .colab-df-convert {\n",
              "      background-color: #E8F0FE;\n",
              "      border: none;\n",
              "      border-radius: 50%;\n",
              "      cursor: pointer;\n",
              "      display: none;\n",
              "      fill: #1967D2;\n",
              "      height: 32px;\n",
              "      padding: 0 0 0 0;\n",
              "      width: 32px;\n",
              "    }\n",
              "\n",
              "    .colab-df-convert:hover {\n",
              "      background-color: #E2EBFA;\n",
              "      box-shadow: 0px 1px 2px rgba(60, 64, 67, 0.3), 0px 1px 3px 1px rgba(60, 64, 67, 0.15);\n",
              "      fill: #174EA6;\n",
              "    }\n",
              "\n",
              "    [theme=dark] .colab-df-convert {\n",
              "      background-color: #3B4455;\n",
              "      fill: #D2E3FC;\n",
              "    }\n",
              "\n",
              "    [theme=dark] .colab-df-convert:hover {\n",
              "      background-color: #434B5C;\n",
              "      box-shadow: 0px 1px 3px 1px rgba(0, 0, 0, 0.15);\n",
              "      filter: drop-shadow(0px 1px 2px rgba(0, 0, 0, 0.3));\n",
              "      fill: #FFFFFF;\n",
              "    }\n",
              "  </style>\n",
              "\n",
              "      <script>\n",
              "        const buttonEl =\n",
              "          document.querySelector('#df-c351e63f-c38f-4a44-9a7f-4bb3cfe064e2 button.colab-df-convert');\n",
              "        buttonEl.style.display =\n",
              "          google.colab.kernel.accessAllowed ? 'block' : 'none';\n",
              "\n",
              "        async function convertToInteractive(key) {\n",
              "          const element = document.querySelector('#df-c351e63f-c38f-4a44-9a7f-4bb3cfe064e2');\n",
              "          const dataTable =\n",
              "            await google.colab.kernel.invokeFunction('convertToInteractive',\n",
              "                                                     [key], {});\n",
              "          if (!dataTable) return;\n",
              "\n",
              "          const docLinkHtml = 'Like what you see? Visit the ' +\n",
              "            '<a target=\"_blank\" href=https://colab.research.google.com/notebooks/data_table.ipynb>data table notebook</a>'\n",
              "            + ' to learn more about interactive tables.';\n",
              "          element.innerHTML = '';\n",
              "          dataTable['output_type'] = 'display_data';\n",
              "          await google.colab.output.renderOutput(dataTable, element);\n",
              "          const docLink = document.createElement('div');\n",
              "          docLink.innerHTML = docLinkHtml;\n",
              "          element.appendChild(docLink);\n",
              "        }\n",
              "      </script>\n",
              "    </div>\n",
              "  </div>\n",
              "  "
            ]
          },
          "metadata": {},
          "execution_count": 5
        }
      ]
    },
    {
      "cell_type": "markdown",
      "source": [
        "## Atividade 2: Selecione as variáveis que achar interessante para tentar prever se houve ou não fraude. Aproveite para verificar se há correlação entre as variáveis."
      ],
      "metadata": {
        "id": "r5ygMFXrDMjB"
      }
    },
    {
      "cell_type": "markdown",
      "source": [
        "Iremos utilizar todas as variáveis do dataset no modelo para tentar prever se houve ou não fraude."
      ],
      "metadata": {
        "id": "OxcZ8UXG1ilc"
      }
    },
    {
      "cell_type": "markdown",
      "source": [
        "## Atividade 3: Verifique se há desbalanceamento da variável `fraude`. Se houver, faça um balanceamento de classes."
      ],
      "metadata": {
        "id": "uLnTDczA2FQH"
      }
    },
    {
      "cell_type": "code",
      "source": [
        "df['fraude'].value_counts()"
      ],
      "metadata": {
        "id": "tQ68HjMuSj7q",
        "colab": {
          "base_uri": "https://localhost:8080/"
        },
        "outputId": "120dec95-4c0b-4d73-b62e-b23df7c9d395"
      },
      "execution_count": null,
      "outputs": [
        {
          "output_type": "execute_result",
          "data": {
            "text/plain": [
              "0.0    912597\n",
              "1.0     87403\n",
              "Name: fraude, dtype: int64"
            ]
          },
          "metadata": {},
          "execution_count": 7
        }
      ]
    },
    {
      "cell_type": "code",
      "source": [
        "import seaborn as sns\n",
        "\n",
        "sns.countplot(x=df['fraude']);"
      ],
      "metadata": {
        "colab": {
          "base_uri": "https://localhost:8080/",
          "height": 449
        },
        "id": "m4mJ9HeBwbUC",
        "outputId": "6f5d5361-976b-42e9-cd0c-9f572f1aaf88"
      },
      "execution_count": null,
      "outputs": [
        {
          "output_type": "display_data",
          "data": {
            "text/plain": [
              "<Figure size 640x480 with 1 Axes>"
            ],
            "image/png": "[encoded data removed]"
          },
          "metadata": {}
        }
      ]
    },
    {
      "cell_type": "markdown",
      "source": [],
      "metadata": {
        "id": "bhmHXxNPubwT"
      }
    },
    {
      "cell_type": "markdown",
      "source": [
        "Se as classes estiverem desbalanceadas execute o código a seguir.\n",
        "\n",
        "Existem várias técnicas de balanceamento. Como temos muitas observações, vamos usar uma técnica chamada undersampling. Esta técnica consiste em descartar observações da classe que possui mais observações até que as duas classes tenham a mesma quantidade.\n",
        "\n",
        "Por exemplo, se temos duas classes, uma com 1000 observações para a classe A e outra com 100 observações para a classe B, então iremos selecionar apenas 100 observações (aleatoriamente) da classe A dentre as 1000. Dessa maneira iremos ter 100 observações de cada classe."
      ],
      "metadata": {
        "id": "gVT355Z1TP0F"
      }
    },
    {
      "cell_type": "code",
      "source": [
        "# separando as variáveis X e y\n",
        "X = df[['dist_casa','dist_ultima_transacao','razao_preco_medio',\n",
        "              'loja_repetida','usou_chip','usou_pin','online']]\n",
        "y = df['fraude']\n",
        "\n",
        "# balanceando as classes com undersampling\n",
        "from imblearn.under_sampling import RandomUnderSampler\n",
        "undersample = RandomUnderSampler(sampling_strategy='majority')\n",
        "X, y = undersample.fit_resample(X, y)"
      ],
      "metadata": {
        "id": "dbGROGkUXAsi"
      },
      "execution_count": null,
      "outputs": []
    },
    {
      "cell_type": "code",
      "source": [
        "y.value_counts()"
      ],
      "metadata": {
        "id": "RvJuQmBmX6lJ",
        "colab": {
          "base_uri": "https://localhost:8080/"
        },
        "outputId": "19be3af5-6727-47aa-b061-e733d303d6a4"
      },
      "execution_count": null,
      "outputs": [
        {
          "output_type": "execute_result",
          "data": {
            "text/plain": [
              "0.0    87403\n",
              "1.0    87403\n",
              "Name: fraude, dtype: int64"
            ]
          },
          "metadata": {},
          "execution_count": 10
        }
      ]
    },
    {
      "cell_type": "markdown",
      "source": [
        "## Atividade 4: Crie um modelo de regressão logística."
      ],
      "metadata": {
        "id": "LyNahV2VRYqH"
      }
    },
    {
      "cell_type": "code",
      "source": [
        "from sklearn.linear_model import LogisticRegression\n",
        "\n",
        "modelo = LogisticRegression(max_iter=10000)"
      ],
      "metadata": {
        "id": "U0LWAEIGN9WB"
      },
      "execution_count": null,
      "outputs": []
    },
    {
      "cell_type": "code",
      "source": [
        "X = sm.add_constant(X)"
      ],
      "metadata": {
        "id": "dZhHXu3lBhEO"
      },
      "execution_count": null,
      "outputs": []
    },
    {
      "cell_type": "code",
      "source": [
        "modelo = sm.Logit(y, X).fit(method='newton')"
      ],
      "metadata": {
        "colab": {
          "base_uri": "https://localhost:8080/"
        },
        "id": "zuqn0gYrICmj",
        "outputId": "e9f06caa-b7ef-46c8-e8fd-a1ab563bc537"
      },
      "execution_count": null,
      "outputs": [
        {
          "output_type": "stream",
          "name": "stdout",
          "text": [
            "Optimization terminated successfully.\n",
            "         Current function value: 0.213430\n",
            "         Iterations 10\n"
          ]
        }
      ]
    },
    {
      "cell_type": "code",
      "source": [
        "modelo.params"
      ],
      "metadata": {
        "colab": {
          "base_uri": "https://localhost:8080/"
        },
        "id": "ON2Yo3q3zIKr",
        "outputId": "d5ea7774-7511-4161-8ba1-53c46716a546"
      },
      "execution_count": null,
      "outputs": [
        {
          "output_type": "execute_result",
          "data": {
            "text/plain": [
              "const                    -7.653858\n",
              "dist_casa                 0.028582\n",
              "dist_ultima_transacao     0.051796\n",
              "razao_preco_medio         1.203611\n",
              "loja_repetida            -1.414076\n",
              "usou_chip                -1.184067\n",
              "usou_pin                -10.168172\n",
              "online                    5.017789\n",
              "dtype: float64"
            ]
          },
          "metadata": {},
          "execution_count": 14
        }
      ]
    },
    {
      "cell_type": "markdown",
      "source": [
        "## Atividade 5: Verifique os parâmetros do modelo e se eles são relevantes."
      ],
      "metadata": {
        "id": "A75pvaMA4WEM"
      }
    },
    {
      "cell_type": "code",
      "source": [
        "print(modelo.summary())"
      ],
      "metadata": {
        "colab": {
          "base_uri": "https://localhost:8080/"
        },
        "id": "78Smi8lAyclQ",
        "outputId": "8ded051d-fb01-444d-ec9b-84bd77a15463"
      },
      "execution_count": null,
      "outputs": [
        {
          "output_type": "stream",
          "name": "stdout",
          "text": [
            "                           Logit Regression Results                           \n",
            "==============================================================================\n",
            "Dep. Variable:                 fraude   No. Observations:               174806\n",
            "Model:                          Logit   Df Residuals:                   174798\n",
            "Method:                           MLE   Df Model:                            7\n",
            "Date:                Sun, 23 Apr 2023   Pseudo R-squ.:                  0.6921\n",
            "Time:                        20:36:45   Log-Likelihood:                -37309.\n",
            "converged:                       True   LL-Null:                   -1.2117e+05\n",
            "Covariance Type:            nonrobust   LLR p-value:                     0.000\n",
            "=========================================================================================\n",
            "                            coef    std err          z      P>|z|      [0.025      0.975]\n",
            "-----------------------------------------------------------------------------------------\n",
            "const                    -7.6539      0.054   -142.690      0.000      -7.759      -7.549\n",
            "dist_casa                 0.0286      0.000    130.023      0.000       0.028       0.029\n",
            "dist_ultima_transacao     0.0518      0.001     89.507      0.000       0.051       0.053\n",
            "razao_preco_medio         1.2036      0.007    181.662      0.000       1.191       1.217\n",
            "loja_repetida            -1.4141      0.031    -45.322      0.000      -1.475      -1.353\n",
            "usou_chip                -1.1841      0.022    -52.748      0.000      -1.228      -1.140\n",
            "usou_pin                -10.1682      0.162    -62.634      0.000     -10.486      -9.850\n",
            "online                    5.0178      0.043    117.128      0.000       4.934       5.102\n",
            "=========================================================================================\n",
            "\n",
            "Possibly complete quasi-separation: A fraction 0.13 of observations can be\n",
            "perfectly predicted. This might indicate that there is complete\n",
            "quasi-separation. In this case some parameters will not be identified.\n"
          ]
        }
      ]
    },
    {
      "cell_type": "markdown",
      "source": [
        "O p-valor do modelo é menor do que 0.05 e o pseudo R² é 0.69, o que indica que o modelo é adequado e que ele consegue prever 69% da variabilidade dos dados.\n",
        "\n",
        "Todas as variáveis possuem P>|z| menor que 0.05, o que indica que todas as variáveis utilizadas são relevantes para o modelo."
      ],
      "metadata": {
        "id": "C2pwJ3cF101j"
      }
    },
    {
      "cell_type": "markdown",
      "source": [
        "## Atividade 6: Crie a matriz de confusão e o mapa de calor correspondente.\n"
      ],
      "metadata": {
        "id": "KzB5asn6RN8p"
      }
    },
    {
      "cell_type": "code",
      "source": [
        "modelo.predict(X)"
      ],
      "metadata": {
        "id": "n8QwhzkTPiDs",
        "colab": {
          "base_uri": "https://localhost:8080/"
        },
        "outputId": "1eb949a9-bb30-44dd-cd22-bae17d1e2c6d"
      },
      "execution_count": null,
      "outputs": [
        {
          "output_type": "execute_result",
          "data": {
            "text/plain": [
              "0         0.155204\n",
              "1         0.023482\n",
              "2         0.183039\n",
              "3         0.000119\n",
              "4         0.000543\n",
              "            ...   \n",
              "174801    0.999648\n",
              "174802    0.752674\n",
              "174803    0.508992\n",
              "174804    1.000000\n",
              "174805    0.999809\n",
              "Length: 174806, dtype: float64"
            ]
          },
          "metadata": {},
          "execution_count": 16
        }
      ]
    },
    {
      "cell_type": "code",
      "source": [
        "y_pred = (modelo.predict(X) >= 0.5).astype(int)"
      ],
      "metadata": {
        "id": "UpCr12avAR5f"
      },
      "execution_count": null,
      "outputs": []
    },
    {
      "cell_type": "code",
      "source": [
        "y_pred"
      ],
      "metadata": {
        "colab": {
          "base_uri": "https://localhost:8080/"
        },
        "id": "ywCxAMUA0ixa",
        "outputId": "bb3c6637-650c-433c-84e1-850741479da5"
      },
      "execution_count": null,
      "outputs": [
        {
          "output_type": "execute_result",
          "data": {
            "text/plain": [
              "0         0\n",
              "1         0\n",
              "2         0\n",
              "3         0\n",
              "4         0\n",
              "         ..\n",
              "174801    1\n",
              "174802    1\n",
              "174803    1\n",
              "174804    1\n",
              "174805    1\n",
              "Length: 174806, dtype: int64"
            ]
          },
          "metadata": {},
          "execution_count": 18
        }
      ]
    },
    {
      "cell_type": "code",
      "source": [
        "from sklearn.metrics import confusion_matrix\n",
        "\n",
        "matriz_confusao = confusion_matrix(y, y_pred)\n",
        "matriz_confusao"
      ],
      "metadata": {
        "id": "9uen0B9OQr6H",
        "colab": {
          "base_uri": "https://localhost:8080/"
        },
        "outputId": "60657e33-d52a-4c27-e899-a879e11b6f69"
      },
      "execution_count": null,
      "outputs": [
        {
          "output_type": "execute_result",
          "data": {
            "text/plain": [
              "array([[81483,  5920],\n",
              "       [ 4484, 82919]])"
            ]
          },
          "metadata": {},
          "execution_count": 19
        }
      ]
    },
    {
      "cell_type": "code",
      "source": [
        "import matplotlib.pyplot as plt\n",
        "\n",
        "sns.heatmap(matriz_confusao, annot=True, fmt='d', cmap='Blues')\n",
        "plt.title('Matriz de Confusão', y=1.1)\n",
        "plt.ylabel('Valores Observados')\n",
        "plt.xlabel('Valores Preditos');"
      ],
      "metadata": {
        "colab": {
          "base_uri": "https://localhost:8080/",
          "height": 509
        },
        "id": "MrJAeKUC2ymi",
        "outputId": "25caf246-88c6-43ee-e3f1-cfceb1b3f6b5"
      },
      "execution_count": null,
      "outputs": [
        {
          "output_type": "display_data",
          "data": {
            "text/plain": [
              "<Figure size 640x480 with 2 Axes>"
            ],
            "image/png": "[encoded data removed]"
          },
          "metadata": {}
        }
      ]
    },
    {
      "cell_type": "markdown",
      "source": [
        "Verdadeiros positivos: 81483\n",
        "\n",
        "Verdadeiros negativos: 82919\n",
        "\n",
        "Falsos positivos: 5920\n",
        "\n",
        "Falsos negativos: 4484"
      ],
      "metadata": {
        "id": "bzNal53_2ziM"
      }
    },
    {
      "cell_type": "code",
      "source": [
        "import numpy as np\n",
        "\n",
        "sns.heatmap(matriz_confusao/np.sum(matriz_confusao),\n",
        "            annot=True, fmt='.2%', cmap='Blues');\n",
        "            \n",
        "plt.title('Matriz de Confusão', y=1.1)\n",
        "plt.ylabel('Valores Observados')\n",
        "plt.xlabel('Valores Preditos');"
      ],
      "metadata": {
        "id": "nscwn8QmRCK4",
        "colab": {
          "base_uri": "https://localhost:8080/",
          "height": 509
        },
        "outputId": "10717d1b-ad90-4956-8f38-bcedd3d8354e"
      },
      "execution_count": null,
      "outputs": [
        {
          "output_type": "display_data",
          "data": {
            "text/plain": [
              "<Figure size 640x480 with 2 Axes>"
            ],
            "image/png": "[encoded data removed]"
          },
          "metadata": {}
        }
      ]
    },
    {
      "cell_type": "markdown",
      "source": [
        "## Atividade 7: Verifique as outras métricas (sensibilidade, especificidade, f1-score)."
      ],
      "metadata": {
        "id": "3Wk5rVVF9qLq"
      }
    },
    {
      "cell_type": "code",
      "source": [
        "from sklearn.metrics import classification_report\n",
        "\n",
        "print(classification_report(y, y_pred))"
      ],
      "metadata": {
        "id": "iEk4M4vLBhqU",
        "colab": {
          "base_uri": "https://localhost:8080/"
        },
        "outputId": "a2027eaa-f0eb-41c5-be80-400b09a41c65"
      },
      "execution_count": null,
      "outputs": [
        {
          "output_type": "stream",
          "name": "stdout",
          "text": [
            "              precision    recall  f1-score   support\n",
            "\n",
            "         0.0       0.95      0.93      0.94     87403\n",
            "         1.0       0.93      0.95      0.94     87403\n",
            "\n",
            "    accuracy                           0.94    174806\n",
            "   macro avg       0.94      0.94      0.94    174806\n",
            "weighted avg       0.94      0.94      0.94    174806\n",
            "\n"
          ]
        }
      ]
    },
    {
      "cell_type": "markdown",
      "source": [
        "O modelo possui 94% de acurácia, ou seja, está acertando 94% dos valores de y, sendo algo super relevante.\n",
        "\n",
        "O modelo possui também 94% de recall, o que indica que ele está acertando 94% dos valores positivos. Sendo 95% para os valores 1, ou seja, para os casos fraudulentos, os quais estamos tentando identificar com o modelo.\n"
      ],
      "metadata": {
        "id": "MzULGZpg32t3"
      }
    },
    {
      "cell_type": "markdown",
      "source": [
        "## Atividade 8: Crie a curva ROC para este modelo."
      ],
      "metadata": {
        "id": "UqZB8GFPShyT"
      }
    },
    {
      "cell_type": "code",
      "source": [
        "from sklearn.metrics import roc_curve, roc_auc_score\n",
        "\n",
        "logit_roc_auc = roc_auc_score(y, modelo.predict(X))\n",
        "fpr, tpr, thresholds = roc_curve(y, modelo.predict(X))\n",
        "plt.plot(fpr, tpr, label=f'Regressão Logística (área = {round(logit_roc_auc, 2)})')\n",
        "plt.plot([0, 1], [0, 1],'r--')\n",
        "plt.xlabel('Taxa de Falso Positivo')\n",
        "plt.ylabel('Taxa de Verdadeiro Positivo')\n",
        "plt.title('Curva ROC')\n",
        "plt.legend(loc=\"lower right\");"
      ],
      "metadata": {
        "id": "uQNbLEfPBho8",
        "colab": {
          "base_uri": "https://localhost:8080/",
          "height": 472
        },
        "outputId": "1eddfc2c-2db3-4706-ce18-343fb659755b"
      },
      "execution_count": null,
      "outputs": [
        {
          "output_type": "display_data",
          "data": {
            "text/plain": [
              "<Figure size 640x480 with 1 Axes>"
            ],
            "image/png": "[encoded data removed]"
          },
          "metadata": {}
        }
      ]
    },
    {
      "cell_type": "markdown",
      "source": [
        "Quanto mais próximo de 1 a área sob a curva ROC estiver, melhor o modelo. Nesse modelo a área é de 0.98, indicando que o modelo está muito bom."
      ],
      "metadata": {
        "id": "RgFU2LQH5wWE"
      }
    },
    {
      "cell_type": "markdown",
      "source": [
        "## Atividade 9: Preveja se uma transação com as características abaixo é ou não fraude.\n",
        "\n",
        "* `dist_casa = 82`\n",
        "* `dist_ultima_transacao = 13`\n",
        "* `razao_preco_medio = 14`\n",
        "* `loja_repetida = 1`\n",
        "* `usou_chip = 0`\n",
        "* `usou_pin = 0`\n",
        "* `online = 1`"
      ],
      "metadata": {
        "id": "PbFaRUFXnSyG"
      }
    },
    {
      "cell_type": "code",
      "source": [
        "lista = [1, 82, 13, 14, 1, 0, 0, 1]"
      ],
      "metadata": {
        "id": "e5RifD17nU3K"
      },
      "execution_count": null,
      "outputs": []
    },
    {
      "cell_type": "code",
      "source": [
        "modelo.predict(lista)"
      ],
      "metadata": {
        "colab": {
          "base_uri": "https://localhost:8080/"
        },
        "id": "ygtFNy4j8kgx",
        "outputId": "0ee4740f-5187-4a8c-a595-8374fe8fa972"
      },
      "execution_count": null,
      "outputs": [
        {
          "output_type": "execute_result",
          "data": {
            "text/plain": [
              "array([0.99999986])"
            ]
          },
          "metadata": {},
          "execution_count": 25
        }
      ]
    },
    {
      "cell_type": "markdown",
      "source": [
        "A transação possui 99,99% de chance de ser fraudulenta, podemos considerar que é uma fraude."
      ],
      "metadata": {
        "id": "BNOMvy-j56KL"
      }
    },
    {
      "cell_type": "markdown",
      "source": [
        "## Atividade 10: Refaça os exercícios sem realizar o balanceamento de classe e verifique se ocorre algum problema."
      ],
      "metadata": {
        "id": "Qkd31k1Fa5SQ"
      }
    },
    {
      "cell_type": "code",
      "source": [
        "X2 = df[['dist_casa','dist_ultima_transacao','razao_preco_medio',\n",
        "              'loja_repetida','usou_chip','usou_pin','online']]\n",
        "y2 = df['fraude']"
      ],
      "metadata": {
        "id": "CfuUtU1NaURF"
      },
      "execution_count": null,
      "outputs": []
    },
    {
      "cell_type": "code",
      "source": [
        "df['fraude'].value_counts()"
      ],
      "metadata": {
        "colab": {
          "base_uri": "https://localhost:8080/"
        },
        "id": "ZbnXax4MCzWD",
        "outputId": "1633b379-f2e0-44eb-b4df-3749a94c1d7b"
      },
      "execution_count": null,
      "outputs": [
        {
          "output_type": "execute_result",
          "data": {
            "text/plain": [
              "0.0    912597\n",
              "1.0     87403\n",
              "Name: fraude, dtype: int64"
            ]
          },
          "metadata": {},
          "execution_count": 27
        }
      ]
    },
    {
      "cell_type": "code",
      "source": [
        "X2 = sm.add_constant(X2)"
      ],
      "metadata": {
        "id": "TS2GXaV4cYGI"
      },
      "execution_count": null,
      "outputs": []
    },
    {
      "cell_type": "code",
      "source": [
        "modelo2 = sm.Logit(y2, X2).fit(method='newton')"
      ],
      "metadata": {
        "id": "kAeupQi5crqv",
        "colab": {
          "base_uri": "https://localhost:8080/"
        },
        "outputId": "738d2169-68c3-45c6-929e-22104495c392"
      },
      "execution_count": null,
      "outputs": [
        {
          "output_type": "stream",
          "name": "stdout",
          "text": [
            "Optimization terminated successfully.\n",
            "         Current function value: 0.135695\n",
            "         Iterations 12\n"
          ]
        }
      ]
    },
    {
      "cell_type": "code",
      "source": [
        "modelo2.params"
      ],
      "metadata": {
        "id": "h1estIACctnS",
        "colab": {
          "base_uri": "https://localhost:8080/"
        },
        "outputId": "a27ffd77-b781-4d07-98cc-83ddccfa2370"
      },
      "execution_count": null,
      "outputs": [
        {
          "output_type": "execute_result",
          "data": {
            "text/plain": [
              "const                   -10.361061\n",
              "dist_casa                 0.015217\n",
              "dist_ultima_transacao     0.025258\n",
              "razao_preco_medio         0.862251\n",
              "loja_repetida            -0.621471\n",
              "usou_chip                -1.049060\n",
              "usou_pin                -13.740402\n",
              "online                    6.651379\n",
              "dtype: float64"
            ]
          },
          "metadata": {},
          "execution_count": 30
        }
      ]
    },
    {
      "cell_type": "code",
      "source": [
        "print(modelo2.summary())"
      ],
      "metadata": {
        "id": "bbltvkaTcvpo",
        "colab": {
          "base_uri": "https://localhost:8080/"
        },
        "outputId": "3866feb3-ced3-40b8-c567-25fd48fedecf"
      },
      "execution_count": null,
      "outputs": [
        {
          "output_type": "stream",
          "name": "stdout",
          "text": [
            "                           Logit Regression Results                           \n",
            "==============================================================================\n",
            "Dep. Variable:                 fraude   No. Observations:              1000000\n",
            "Model:                          Logit   Df Residuals:                   999992\n",
            "Method:                           MLE   Df Model:                            7\n",
            "Date:                Sun, 23 Apr 2023   Pseudo R-squ.:                  0.5423\n",
            "Time:                        20:36:53   Log-Likelihood:            -1.3570e+05\n",
            "converged:                       True   LL-Null:                   -2.9649e+05\n",
            "Covariance Type:            nonrobust   LLR p-value:                     0.000\n",
            "=========================================================================================\n",
            "                            coef    std err          z      P>|z|      [0.025      0.975]\n",
            "-----------------------------------------------------------------------------------------\n",
            "const                   -10.3611      0.044   -237.200      0.000     -10.447     -10.275\n",
            "dist_casa                 0.0152   8.32e-05    182.831      0.000       0.015       0.015\n",
            "dist_ultima_transacao     0.0253      0.000    105.614      0.000       0.025       0.026\n",
            "razao_preco_medio         0.8623      0.003    303.723      0.000       0.857       0.868\n",
            "loja_repetida            -0.6215      0.016    -39.456      0.000      -0.652      -0.591\n",
            "usou_chip                -1.0491      0.012    -85.804      0.000      -1.073      -1.025\n",
            "usou_pin                -13.7404      0.159    -86.663      0.000     -14.051     -13.430\n",
            "online                    6.6514      0.037    178.712      0.000       6.578       6.724\n",
            "=========================================================================================\n",
            "\n",
            "Possibly complete quasi-separation: A fraction 0.31 of observations can be\n",
            "perfectly predicted. This might indicate that there is complete\n",
            "quasi-separation. In this case some parameters will not be identified.\n"
          ]
        }
      ]
    },
    {
      "cell_type": "code",
      "source": [
        "modelo2.predict(X2)"
      ],
      "metadata": {
        "id": "qyD4qm43cxsu",
        "colab": {
          "base_uri": "https://localhost:8080/"
        },
        "outputId": "69f3866a-2cce-4aee-b9db-7ef01787b9c8"
      },
      "execution_count": null,
      "outputs": [
        {
          "output_type": "execute_result",
          "data": {
            "text/plain": [
              "0         0.000078\n",
              "1         0.000061\n",
              "2         0.020542\n",
              "3         0.007451\n",
              "4         0.058587\n",
              "            ...   \n",
              "999995    0.000025\n",
              "999996    0.000095\n",
              "999997    0.005996\n",
              "999998    0.020837\n",
              "999999    0.015454\n",
              "Length: 1000000, dtype: float64"
            ]
          },
          "metadata": {},
          "execution_count": 32
        }
      ]
    },
    {
      "cell_type": "code",
      "source": [
        "y_pred2 = (modelo2.predict(X2) >= 0.5).astype(int)"
      ],
      "metadata": {
        "id": "6EiiNwKdhKUc"
      },
      "execution_count": null,
      "outputs": []
    },
    {
      "cell_type": "code",
      "source": [
        "matriz_confusao2 = confusion_matrix(y2, y_pred2)\n",
        "matriz_confusao2"
      ],
      "metadata": {
        "colab": {
          "base_uri": "https://localhost:8080/"
        },
        "id": "D_Wiab0hE5t6",
        "outputId": "27277b9d-d4d3-4298-c345-290601b8409b"
      },
      "execution_count": null,
      "outputs": [
        {
          "output_type": "execute_result",
          "data": {
            "text/plain": [
              "array([[906272,   6325],\n",
              "       [ 34837,  52566]])"
            ]
          },
          "metadata": {},
          "execution_count": 34
        }
      ]
    },
    {
      "cell_type": "code",
      "source": [
        "sns.heatmap(matriz_confusao2/np.sum(matriz_confusao2),\n",
        "            annot=True, fmt='.2%', cmap='Blues');\n",
        "            \n",
        "plt.title('Matriz de Confusão', y=1.1)\n",
        "plt.ylabel('Valores Observados')\n",
        "plt.xlabel('Valores Preditos');"
      ],
      "metadata": {
        "colab": {
          "base_uri": "https://localhost:8080/",
          "height": 509
        },
        "id": "07LU7APGFFES",
        "outputId": "f9add3d5-fae7-4d72-de06-bd9673d678ae"
      },
      "execution_count": null,
      "outputs": [
        {
          "output_type": "display_data",
          "data": {
            "text/plain": [
              "<Figure size 640x480 with 2 Axes>"
            ],
            "image/png": "[encoded data removed]"
          },
          "metadata": {}
        }
      ]
    },
    {
      "cell_type": "code",
      "source": [
        "print(classification_report(y2, y_pred2))"
      ],
      "metadata": {
        "colab": {
          "base_uri": "https://localhost:8080/"
        },
        "id": "N0ONzHENGPQB",
        "outputId": "33765fcb-6f07-4266-a1af-6b84467bb81c"
      },
      "execution_count": null,
      "outputs": [
        {
          "output_type": "stream",
          "name": "stdout",
          "text": [
            "              precision    recall  f1-score   support\n",
            "\n",
            "         0.0       0.96      0.99      0.98    912597\n",
            "         1.0       0.89      0.60      0.72     87403\n",
            "\n",
            "    accuracy                           0.96   1000000\n",
            "   macro avg       0.93      0.80      0.85   1000000\n",
            "weighted avg       0.96      0.96      0.96   1000000\n",
            "\n"
          ]
        }
      ]
    },
    {
      "cell_type": "code",
      "source": [
        "logit_roc_auc = roc_auc_score(y2, modelo2.predict(X2))\n",
        "fpr, tpr, thresholds = roc_curve(y2, modelo2.predict(X2))\n",
        "plt.plot(fpr, tpr, label=f'Regressão Logística (área = {round(logit_roc_auc, 2)})')\n",
        "plt.plot([0, 1], [0, 1],'r--')\n",
        "plt.xlabel('Taxa de Falso Positivo')\n",
        "plt.ylabel('Taxa de Verdadeiro Positivo')\n",
        "plt.title('Curva ROC')\n",
        "plt.legend(loc=\"lower right\");"
      ],
      "metadata": {
        "colab": {
          "base_uri": "https://localhost:8080/",
          "height": 472
        },
        "id": "38O4FGccGpNZ",
        "outputId": "1617c89e-e04b-4688-b8c0-a673dc36df3b"
      },
      "execution_count": null,
      "outputs": [
        {
          "output_type": "display_data",
          "data": {
            "text/plain": [
              "<Figure size 640x480 with 1 Axes>"
            ],
            "image/png": "[encoded data removed]"
          },
          "metadata": {}
        }
      ]
    },
    {
      "cell_type": "markdown",
      "source": [
        "Apesar de o modelo ter apresentado uma acurácia alta, uma área sobre a curva ROC boa, valores médios de recall e precision bons, ele apresenta um valor de 60% para o recall do valor 1, o que significa que só está acertando 60% das fraudes, o que não é bom para o nosso objetivo, pois queremos identificar o máximo possível de transações fraudulentas e não conseguimos identificar um número considerável com esse modelo. "
      ],
      "metadata": {
        "id": "hWBJ9rJk6YQz"
      }
    }
  ]
}