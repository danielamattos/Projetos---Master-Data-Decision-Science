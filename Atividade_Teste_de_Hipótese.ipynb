{
  "nbformat": 4,
  "nbformat_minor": 0,
  "metadata": {
    "colab": {
      "provenance": [],
      "include_colab_link": true
    },
    "kernelspec": {
      "name": "python3",
      "display_name": "Python 3"
    },
    "language_info": {
      "name": "python"
    }
  },
  "cells": [
    {
      "cell_type": "markdown",
      "metadata": {
        "id": "view-in-github",
        "colab_type": "text"
      },
      "source": [
        "<a href=\"https://colab.research.google.com/github/danielamattos/Projetos---Master-Data-Decision-Science/blob/main/Atividade_Teste_de_Hip%C3%B3tese.ipynb\" target=\"_parent\"><img src=\"https://colab.research.google.com/assets/colab-badge.svg\" alt=\"Open In Colab\"/></a>"
      ]
    },
    {
      "cell_type": "markdown",
      "source": [
        "# Teste de Hipótese para a Média (uma variável)\n",
        "\n",
        "### Atividade 1: Crie um dataframe a partir do banco de dados `basedosdados.br_inep_ideb.municipio` disponível em [Ideb](https://basedosdados.org/dataset/br-inep-ideb?bdm_table=municipio). Selecione apenas as colunas `ano`, `sigla_uf`, `taxa_aprovacao`, `nota_saeb_matematica`, `nota_saeb_lingua_portuguesa` e `ideb`."
      ],
      "metadata": {
        "id": "9H7XRk3GlSOe"
      }
    },
    {
      "cell_type": "code",
      "source": [
        "from google.colab import drive\n",
        "drive.mount('/content/drive')"
      ],
      "metadata": {
        "colab": {
          "base_uri": "https://localhost:8080/"
        },
        "id": "4xTjIwutJU_n",
        "outputId": "696f86b7-82ba-4333-af03-ae75fe3a9b32"
      },
      "execution_count": null,
      "outputs": [
        {
          "output_type": "stream",
          "name": "stdout",
          "text": [
            "Mounted at /content/drive\n"
          ]
        }
      ]
    },
    {
      "cell_type": "code",
      "source": [
        "# seu código\n",
        "import pandas as pd\n",
        "\n",
        "df_ideb = pd.read_csv('/content/drive/MyDrive/sirius/ideb (1).csv')\n",
        "    \n",
        "df= df_ideb[['ano', 'sigla_uf','taxa_aprovacao','nota_saeb_matematica','nota_saeb_lingua_portuguesa','ideb']]\n",
        "\n",
        "df.head()"
      ],
      "metadata": {
        "id": "-cfY16BHT88h",
        "colab": {
          "base_uri": "https://localhost:8080/",
          "height": 206
        },
        "outputId": "099985ce-10b3-4789-a024-445c78bf9c86"
      },
      "execution_count": null,
      "outputs": [
        {
          "output_type": "execute_result",
          "data": {
            "text/plain": [
              "    ano sigla_uf  taxa_aprovacao  nota_saeb_matematica  \\\n",
              "0  2005       AC            64.1                 161.8   \n",
              "1  2005       AC            53.9                 167.8   \n",
              "2  2005       AC            49.3                 151.8   \n",
              "3  2005       AC            48.8                 163.6   \n",
              "4  2005       AC            48.8                 159.0   \n",
              "\n",
              "   nota_saeb_lingua_portuguesa  ideb  \n",
              "0                       150.80   2.4  \n",
              "1                       165.60   2.3  \n",
              "2                       149.60   1.8  \n",
              "3                       155.80   1.9  \n",
              "4                       153.39   1.9  "
            ],
            "text/html": [
              "\n",
              "  <div id=\"df-159b1637-77ae-4dcc-b2d4-70a7a77bd841\">\n",
              "    <div class=\"colab-df-container\">\n",
              "      <div>\n",
              "<style scoped>\n",
              "    .dataframe tbody tr th:only-of-type {\n",
              "        vertical-align: middle;\n",
              "    }\n",
              "\n",
              "    .dataframe tbody tr th {\n",
              "        vertical-align: top;\n",
              "    }\n",
              "\n",
              "    .dataframe thead th {\n",
              "        text-align: right;\n",
              "    }\n",
              "</style>\n",
              "<table border=\"1\" class=\"dataframe\">\n",
              "  <thead>\n",
              "    <tr style=\"text-align: right;\">\n",
              "      <th></th>\n",
              "      <th>ano</th>\n",
              "      <th>sigla_uf</th>\n",
              "      <th>taxa_aprovacao</th>\n",
              "      <th>nota_saeb_matematica</th>\n",
              "      <th>nota_saeb_lingua_portuguesa</th>\n",
              "      <th>ideb</th>\n",
              "    </tr>\n",
              "  </thead>\n",
              "  <tbody>\n",
              "    <tr>\n",
              "      <th>0</th>\n",
              "      <td>2005</td>\n",
              "      <td>AC</td>\n",
              "      <td>64.1</td>\n",
              "      <td>161.8</td>\n",
              "      <td>150.80</td>\n",
              "      <td>2.4</td>\n",
              "    </tr>\n",
              "    <tr>\n",
              "      <th>1</th>\n",
              "      <td>2005</td>\n",
              "      <td>AC</td>\n",
              "      <td>53.9</td>\n",
              "      <td>167.8</td>\n",
              "      <td>165.60</td>\n",
              "      <td>2.3</td>\n",
              "    </tr>\n",
              "    <tr>\n",
              "      <th>2</th>\n",
              "      <td>2005</td>\n",
              "      <td>AC</td>\n",
              "      <td>49.3</td>\n",
              "      <td>151.8</td>\n",
              "      <td>149.60</td>\n",
              "      <td>1.8</td>\n",
              "    </tr>\n",
              "    <tr>\n",
              "      <th>3</th>\n",
              "      <td>2005</td>\n",
              "      <td>AC</td>\n",
              "      <td>48.8</td>\n",
              "      <td>163.6</td>\n",
              "      <td>155.80</td>\n",
              "      <td>1.9</td>\n",
              "    </tr>\n",
              "    <tr>\n",
              "      <th>4</th>\n",
              "      <td>2005</td>\n",
              "      <td>AC</td>\n",
              "      <td>48.8</td>\n",
              "      <td>159.0</td>\n",
              "      <td>153.39</td>\n",
              "      <td>1.9</td>\n",
              "    </tr>\n",
              "  </tbody>\n",
              "</table>\n",
              "</div>\n",
              "      <button class=\"colab-df-convert\" onclick=\"convertToInteractive('df-159b1637-77ae-4dcc-b2d4-70a7a77bd841')\"\n",
              "              title=\"Convert this dataframe to an interactive table.\"\n",
              "              style=\"display:none;\">\n",
              "        \n",
              "  <svg xmlns=\"http://www.w3.org/2000/svg\" height=\"24px\"viewBox=\"0 0 24 24\"\n",
              "       width=\"24px\">\n",
              "    <path d=\"M0 0h24v24H0V0z\" fill=\"none\"/>\n",
              "    <path d=\"M18.56 5.44l.94 2.06.94-2.06 2.06-.94-2.06-.94-.94-2.06-.94 2.06-2.06.94zm-11 1L8.5 8.5l.94-2.06 2.06-.94-2.06-.94L8.5 2.5l-.94 2.06-2.06.94zm10 10l.94 2.06.94-2.06 2.06-.94-2.06-.94-.94-2.06-.94 2.06-2.06.94z\"/><path d=\"M17.41 7.96l-1.37-1.37c-.4-.4-.92-.59-1.43-.59-.52 0-1.04.2-1.43.59L10.3 9.45l-7.72 7.72c-.78.78-.78 2.05 0 2.83L4 21.41c.39.39.9.59 1.41.59.51 0 1.02-.2 1.41-.59l7.78-7.78 2.81-2.81c.8-.78.8-2.07 0-2.86zM5.41 20L4 18.59l7.72-7.72 1.47 1.35L5.41 20z\"/>\n",
              "  </svg>\n",
              "      </button>\n",
              "      \n",
              "  <style>\n",
              "    .colab-df-container {\n",
              "      display:flex;\n",
              "      flex-wrap:wrap;\n",
              "      gap: 12px;\n",
              "    }\n",
              "\n",
              "    .colab-df-convert {\n",
              "      background-color: #E8F0FE;\n",
              "      border: none;\n",
              "      border-radius: 50%;\n",
              "      cursor: pointer;\n",
              "      display: none;\n",
              "      fill: #1967D2;\n",
              "      height: 32px;\n",
              "      padding: 0 0 0 0;\n",
              "      width: 32px;\n",
              "    }\n",
              "\n",
              "    .colab-df-convert:hover {\n",
              "      background-color: #E2EBFA;\n",
              "      box-shadow: 0px 1px 2px rgba(60, 64, 67, 0.3), 0px 1px 3px 1px rgba(60, 64, 67, 0.15);\n",
              "      fill: #174EA6;\n",
              "    }\n",
              "\n",
              "    [theme=dark] .colab-df-convert {\n",
              "      background-color: #3B4455;\n",
              "      fill: #D2E3FC;\n",
              "    }\n",
              "\n",
              "    [theme=dark] .colab-df-convert:hover {\n",
              "      background-color: #434B5C;\n",
              "      box-shadow: 0px 1px 3px 1px rgba(0, 0, 0, 0.15);\n",
              "      filter: drop-shadow(0px 1px 2px rgba(0, 0, 0, 0.3));\n",
              "      fill: #FFFFFF;\n",
              "    }\n",
              "  </style>\n",
              "\n",
              "      <script>\n",
              "        const buttonEl =\n",
              "          document.querySelector('#df-159b1637-77ae-4dcc-b2d4-70a7a77bd841 button.colab-df-convert');\n",
              "        buttonEl.style.display =\n",
              "          google.colab.kernel.accessAllowed ? 'block' : 'none';\n",
              "\n",
              "        async function convertToInteractive(key) {\n",
              "          const element = document.querySelector('#df-159b1637-77ae-4dcc-b2d4-70a7a77bd841');\n",
              "          const dataTable =\n",
              "            await google.colab.kernel.invokeFunction('convertToInteractive',\n",
              "                                                     [key], {});\n",
              "          if (!dataTable) return;\n",
              "\n",
              "          const docLinkHtml = 'Like what you see? Visit the ' +\n",
              "            '<a target=\"_blank\" href=https://colab.research.google.com/notebooks/data_table.ipynb>data table notebook</a>'\n",
              "            + ' to learn more about interactive tables.';\n",
              "          element.innerHTML = '';\n",
              "          dataTable['output_type'] = 'display_data';\n",
              "          await google.colab.output.renderOutput(dataTable, element);\n",
              "          const docLink = document.createElement('div');\n",
              "          docLink.innerHTML = docLinkHtml;\n",
              "          element.appendChild(docLink);\n",
              "        }\n",
              "      </script>\n",
              "    </div>\n",
              "  </div>\n",
              "  "
            ]
          },
          "metadata": {},
          "execution_count": 3
        }
      ]
    },
    {
      "cell_type": "code",
      "source": [
        "# seu código\n"
      ],
      "metadata": {
        "id": "daQqvK6NWWTW"
      },
      "execution_count": null,
      "outputs": []
    },
    {
      "cell_type": "code",
      "source": [
        "# seu código"
      ],
      "metadata": {
        "id": "1D6x2jwmNYgD"
      },
      "execution_count": null,
      "outputs": []
    },
    {
      "cell_type": "markdown",
      "source": [
        "### Atividade 2: Verifique quantas linhas e colunas possui esse dataframe. Veja também se há dados faltantes."
      ],
      "metadata": {
        "id": "xsEP0uQwUib_"
      }
    },
    {
      "cell_type": "code",
      "source": [
        "# seu código\n",
        "df.shape"
      ],
      "metadata": {
        "id": "Hbfcm2eZT86g",
        "colab": {
          "base_uri": "https://localhost:8080/"
        },
        "outputId": "568a4ac9-4d6c-4f0a-be39-7ee5cc26be60"
      },
      "execution_count": null,
      "outputs": [
        {
          "output_type": "execute_result",
          "data": {
            "text/plain": [
              "(130194, 6)"
            ]
          },
          "metadata": {},
          "execution_count": 4
        }
      ]
    },
    {
      "cell_type": "code",
      "source": [
        "# seu código\n",
        "print(df.isnull().sum())"
      ],
      "metadata": {
        "id": "wdJdcto_XoB6",
        "colab": {
          "base_uri": "https://localhost:8080/"
        },
        "outputId": "578dd573-28a2-4002-ecb0-3e7badc5dbfc"
      },
      "execution_count": null,
      "outputs": [
        {
          "output_type": "stream",
          "name": "stdout",
          "text": [
            "ano                                0\n",
            "sigla_uf                           0\n",
            "taxa_aprovacao                 26736\n",
            "nota_saeb_matematica           41849\n",
            "nota_saeb_lingua_portuguesa    41849\n",
            "ideb                           29825\n",
            "dtype: int64\n"
          ]
        }
      ]
    },
    {
      "cell_type": "code",
      "source": [
        "# seu código"
      ],
      "metadata": {
        "id": "6bmOVPVHXxb_"
      },
      "execution_count": null,
      "outputs": []
    },
    {
      "cell_type": "markdown",
      "source": [
        "### Atividade 3: Teste a hipótese de a média da taxa de aprovação para o ano de 2005 ser igual a 78. Considere um nível de confiança de 95%.\n",
        "\n",
        "Descreva, sucintamente, o resultado do teste de hipótese. Não esqueça de incluir as estatísticas encontradas.\n",
        "\n",
        "Dica: crie um DataFrame somente com os valores do ano e da variável de interesse.\n"
      ],
      "metadata": {
        "id": "9lzeAO8TUxgE"
      }
    },
    {
      "cell_type": "code",
      "source": [
        "# seu código\n",
        "\n",
        "df_ano = df[['ano','taxa_aprovacao']]\n",
        "\n",
        "df_2005 = df_ano[df_ano['ano'] == 2005]\n",
        "\n",
        "df_2005.head()"
      ],
      "metadata": {
        "id": "R9FM2kK-T82a",
        "colab": {
          "base_uri": "https://localhost:8080/",
          "height": 206
        },
        "outputId": "83947c9b-e375-4671-b771-825b58ec0391"
      },
      "execution_count": null,
      "outputs": [
        {
          "output_type": "execute_result",
          "data": {
            "text/plain": [
              "    ano  taxa_aprovacao\n",
              "0  2005            64.1\n",
              "1  2005            53.9\n",
              "2  2005            49.3\n",
              "3  2005            48.8\n",
              "4  2005            48.8"
            ],
            "text/html": [
              "\n",
              "  <div id=\"df-8a2d60a1-278f-49fc-a07c-bc71133cebbc\">\n",
              "    <div class=\"colab-df-container\">\n",
              "      <div>\n",
              "<style scoped>\n",
              "    .dataframe tbody tr th:only-of-type {\n",
              "        vertical-align: middle;\n",
              "    }\n",
              "\n",
              "    .dataframe tbody tr th {\n",
              "        vertical-align: top;\n",
              "    }\n",
              "\n",
              "    .dataframe thead th {\n",
              "        text-align: right;\n",
              "    }\n",
              "</style>\n",
              "<table border=\"1\" class=\"dataframe\">\n",
              "  <thead>\n",
              "    <tr style=\"text-align: right;\">\n",
              "      <th></th>\n",
              "      <th>ano</th>\n",
              "      <th>taxa_aprovacao</th>\n",
              "    </tr>\n",
              "  </thead>\n",
              "  <tbody>\n",
              "    <tr>\n",
              "      <th>0</th>\n",
              "      <td>2005</td>\n",
              "      <td>64.1</td>\n",
              "    </tr>\n",
              "    <tr>\n",
              "      <th>1</th>\n",
              "      <td>2005</td>\n",
              "      <td>53.9</td>\n",
              "    </tr>\n",
              "    <tr>\n",
              "      <th>2</th>\n",
              "      <td>2005</td>\n",
              "      <td>49.3</td>\n",
              "    </tr>\n",
              "    <tr>\n",
              "      <th>3</th>\n",
              "      <td>2005</td>\n",
              "      <td>48.8</td>\n",
              "    </tr>\n",
              "    <tr>\n",
              "      <th>4</th>\n",
              "      <td>2005</td>\n",
              "      <td>48.8</td>\n",
              "    </tr>\n",
              "  </tbody>\n",
              "</table>\n",
              "</div>\n",
              "      <button class=\"colab-df-convert\" onclick=\"convertToInteractive('df-8a2d60a1-278f-49fc-a07c-bc71133cebbc')\"\n",
              "              title=\"Convert this dataframe to an interactive table.\"\n",
              "              style=\"display:none;\">\n",
              "        \n",
              "  <svg xmlns=\"http://www.w3.org/2000/svg\" height=\"24px\"viewBox=\"0 0 24 24\"\n",
              "       width=\"24px\">\n",
              "    <path d=\"M0 0h24v24H0V0z\" fill=\"none\"/>\n",
              "    <path d=\"M18.56 5.44l.94 2.06.94-2.06 2.06-.94-2.06-.94-.94-2.06-.94 2.06-2.06.94zm-11 1L8.5 8.5l.94-2.06 2.06-.94-2.06-.94L8.5 2.5l-.94 2.06-2.06.94zm10 10l.94 2.06.94-2.06 2.06-.94-2.06-.94-.94-2.06-.94 2.06-2.06.94z\"/><path d=\"M17.41 7.96l-1.37-1.37c-.4-.4-.92-.59-1.43-.59-.52 0-1.04.2-1.43.59L10.3 9.45l-7.72 7.72c-.78.78-.78 2.05 0 2.83L4 21.41c.39.39.9.59 1.41.59.51 0 1.02-.2 1.41-.59l7.78-7.78 2.81-2.81c.8-.78.8-2.07 0-2.86zM5.41 20L4 18.59l7.72-7.72 1.47 1.35L5.41 20z\"/>\n",
              "  </svg>\n",
              "      </button>\n",
              "      \n",
              "  <style>\n",
              "    .colab-df-container {\n",
              "      display:flex;\n",
              "      flex-wrap:wrap;\n",
              "      gap: 12px;\n",
              "    }\n",
              "\n",
              "    .colab-df-convert {\n",
              "      background-color: #E8F0FE;\n",
              "      border: none;\n",
              "      border-radius: 50%;\n",
              "      cursor: pointer;\n",
              "      display: none;\n",
              "      fill: #1967D2;\n",
              "      height: 32px;\n",
              "      padding: 0 0 0 0;\n",
              "      width: 32px;\n",
              "    }\n",
              "\n",
              "    .colab-df-convert:hover {\n",
              "      background-color: #E2EBFA;\n",
              "      box-shadow: 0px 1px 2px rgba(60, 64, 67, 0.3), 0px 1px 3px 1px rgba(60, 64, 67, 0.15);\n",
              "      fill: #174EA6;\n",
              "    }\n",
              "\n",
              "    [theme=dark] .colab-df-convert {\n",
              "      background-color: #3B4455;\n",
              "      fill: #D2E3FC;\n",
              "    }\n",
              "\n",
              "    [theme=dark] .colab-df-convert:hover {\n",
              "      background-color: #434B5C;\n",
              "      box-shadow: 0px 1px 3px 1px rgba(0, 0, 0, 0.15);\n",
              "      filter: drop-shadow(0px 1px 2px rgba(0, 0, 0, 0.3));\n",
              "      fill: #FFFFFF;\n",
              "    }\n",
              "  </style>\n",
              "\n",
              "      <script>\n",
              "        const buttonEl =\n",
              "          document.querySelector('#df-8a2d60a1-278f-49fc-a07c-bc71133cebbc button.colab-df-convert');\n",
              "        buttonEl.style.display =\n",
              "          google.colab.kernel.accessAllowed ? 'block' : 'none';\n",
              "\n",
              "        async function convertToInteractive(key) {\n",
              "          const element = document.querySelector('#df-8a2d60a1-278f-49fc-a07c-bc71133cebbc');\n",
              "          const dataTable =\n",
              "            await google.colab.kernel.invokeFunction('convertToInteractive',\n",
              "                                                     [key], {});\n",
              "          if (!dataTable) return;\n",
              "\n",
              "          const docLinkHtml = 'Like what you see? Visit the ' +\n",
              "            '<a target=\"_blank\" href=https://colab.research.google.com/notebooks/data_table.ipynb>data table notebook</a>'\n",
              "            + ' to learn more about interactive tables.';\n",
              "          element.innerHTML = '';\n",
              "          dataTable['output_type'] = 'display_data';\n",
              "          await google.colab.output.renderOutput(dataTable, element);\n",
              "          const docLink = document.createElement('div');\n",
              "          docLink.innerHTML = docLinkHtml;\n",
              "          element.appendChild(docLink);\n",
              "        }\n",
              "      </script>\n",
              "    </div>\n",
              "  </div>\n",
              "  "
            ]
          },
          "metadata": {},
          "execution_count": 6
        }
      ]
    },
    {
      "cell_type": "code",
      "source": [
        "# seu código\n",
        "\n",
        "from scipy.stats import ttest_1samp\n",
        "\n",
        "ttest_1samp(a=df_2005['taxa_aprovacao'], popmean=78, nan_policy = 'omit', alternative='two-sided')\n",
        "\n"
      ],
      "metadata": {
        "id": "JWqQdcoNT80m",
        "colab": {
          "base_uri": "https://localhost:8080/"
        },
        "outputId": "ec6f0fac-c4d8-4ce6-9fe9-8bd5b859123c"
      },
      "execution_count": null,
      "outputs": [
        {
          "output_type": "execute_result",
          "data": {
            "text/plain": [
              "Ttest_1sampResult(statistic=20.890080427394516, pvalue=3.146950806710318e-95)"
            ]
          },
          "metadata": {},
          "execution_count": 7
        }
      ]
    },
    {
      "cell_type": "markdown",
      "source": [
        "O pvalor deu menor do que o nível de significância, dessa forma podemos assumir com 95% de confiança de que a média da taxa de aprovação do ano de 2005 não é igual a 78."
      ],
      "metadata": {
        "id": "ULY7SD1SVoTz"
      }
    },
    {
      "cell_type": "markdown",
      "source": [
        "# Teste de Hipótese para a Média (duas variáveis independentes)\n",
        "\n",
        "Agora vamos aplicar um teste de hipótese para a média de duas populações independentes usando dados reais. Desejamos saber se a média para ambas é a mesma."
      ],
      "metadata": {
        "id": "J_zjF2d0HUsv"
      }
    },
    {
      "cell_type": "markdown",
      "source": [
        "### Atividade 4: Teste a hipótese de a média do IDEB para os estados do Rio Grande do Sul e do Ceará, no ano de 2019, serem iguais. Considere um nível de confiança de 95%\n",
        "\n",
        "Dica: Primeiro crie um dataframe auxiliar contendo apenas os dados referentes a 2019. Depois selecione dois conjunto de valores de IDEB, um apenas para o estado do Rio Grande do Sul e outro apenas para o estado do Ceará."
      ],
      "metadata": {
        "id": "WMLStXqvHhsW"
      }
    },
    {
      "cell_type": "code",
      "source": [
        "# seu código\n",
        "\n",
        "df= df_ideb[['ano', 'sigla_uf','ideb']]\n",
        "\n",
        "df_2019= df[df['ano'] == 2019]\n",
        "\n",
        "df_2019.head()"
      ],
      "metadata": {
        "id": "lNMs3qOQHVtZ",
        "colab": {
          "base_uri": "https://localhost:8080/",
          "height": 206
        },
        "outputId": "b77d58db-21e7-4fb6-a838-7a3c7d906aa8"
      },
      "execution_count": null,
      "outputs": [
        {
          "output_type": "execute_result",
          "data": {
            "text/plain": [
              "       ano sigla_uf  ideb\n",
              "3409  2019       AC   8.1\n",
              "3410  2019       AL   8.9\n",
              "3411  2019       AL   8.9\n",
              "3412  2019       AL   8.1\n",
              "3413  2019       AL   8.1"
            ],
            "text/html": [
              "\n",
              "  <div id=\"df-5eb8844b-e911-47a8-88e7-74534dbd6968\">\n",
              "    <div class=\"colab-df-container\">\n",
              "      <div>\n",
              "<style scoped>\n",
              "    .dataframe tbody tr th:only-of-type {\n",
              "        vertical-align: middle;\n",
              "    }\n",
              "\n",
              "    .dataframe tbody tr th {\n",
              "        vertical-align: top;\n",
              "    }\n",
              "\n",
              "    .dataframe thead th {\n",
              "        text-align: right;\n",
              "    }\n",
              "</style>\n",
              "<table border=\"1\" class=\"dataframe\">\n",
              "  <thead>\n",
              "    <tr style=\"text-align: right;\">\n",
              "      <th></th>\n",
              "      <th>ano</th>\n",
              "      <th>sigla_uf</th>\n",
              "      <th>ideb</th>\n",
              "    </tr>\n",
              "  </thead>\n",
              "  <tbody>\n",
              "    <tr>\n",
              "      <th>3409</th>\n",
              "      <td>2019</td>\n",
              "      <td>AC</td>\n",
              "      <td>8.1</td>\n",
              "    </tr>\n",
              "    <tr>\n",
              "      <th>3410</th>\n",
              "      <td>2019</td>\n",
              "      <td>AL</td>\n",
              "      <td>8.9</td>\n",
              "    </tr>\n",
              "    <tr>\n",
              "      <th>3411</th>\n",
              "      <td>2019</td>\n",
              "      <td>AL</td>\n",
              "      <td>8.9</td>\n",
              "    </tr>\n",
              "    <tr>\n",
              "      <th>3412</th>\n",
              "      <td>2019</td>\n",
              "      <td>AL</td>\n",
              "      <td>8.1</td>\n",
              "    </tr>\n",
              "    <tr>\n",
              "      <th>3413</th>\n",
              "      <td>2019</td>\n",
              "      <td>AL</td>\n",
              "      <td>8.1</td>\n",
              "    </tr>\n",
              "  </tbody>\n",
              "</table>\n",
              "</div>\n",
              "      <button class=\"colab-df-convert\" onclick=\"convertToInteractive('df-5eb8844b-e911-47a8-88e7-74534dbd6968')\"\n",
              "              title=\"Convert this dataframe to an interactive table.\"\n",
              "              style=\"display:none;\">\n",
              "        \n",
              "  <svg xmlns=\"http://www.w3.org/2000/svg\" height=\"24px\"viewBox=\"0 0 24 24\"\n",
              "       width=\"24px\">\n",
              "    <path d=\"M0 0h24v24H0V0z\" fill=\"none\"/>\n",
              "    <path d=\"M18.56 5.44l.94 2.06.94-2.06 2.06-.94-2.06-.94-.94-2.06-.94 2.06-2.06.94zm-11 1L8.5 8.5l.94-2.06 2.06-.94-2.06-.94L8.5 2.5l-.94 2.06-2.06.94zm10 10l.94 2.06.94-2.06 2.06-.94-2.06-.94-.94-2.06-.94 2.06-2.06.94z\"/><path d=\"M17.41 7.96l-1.37-1.37c-.4-.4-.92-.59-1.43-.59-.52 0-1.04.2-1.43.59L10.3 9.45l-7.72 7.72c-.78.78-.78 2.05 0 2.83L4 21.41c.39.39.9.59 1.41.59.51 0 1.02-.2 1.41-.59l7.78-7.78 2.81-2.81c.8-.78.8-2.07 0-2.86zM5.41 20L4 18.59l7.72-7.72 1.47 1.35L5.41 20z\"/>\n",
              "  </svg>\n",
              "      </button>\n",
              "      \n",
              "  <style>\n",
              "    .colab-df-container {\n",
              "      display:flex;\n",
              "      flex-wrap:wrap;\n",
              "      gap: 12px;\n",
              "    }\n",
              "\n",
              "    .colab-df-convert {\n",
              "      background-color: #E8F0FE;\n",
              "      border: none;\n",
              "      border-radius: 50%;\n",
              "      cursor: pointer;\n",
              "      display: none;\n",
              "      fill: #1967D2;\n",
              "      height: 32px;\n",
              "      padding: 0 0 0 0;\n",
              "      width: 32px;\n",
              "    }\n",
              "\n",
              "    .colab-df-convert:hover {\n",
              "      background-color: #E2EBFA;\n",
              "      box-shadow: 0px 1px 2px rgba(60, 64, 67, 0.3), 0px 1px 3px 1px rgba(60, 64, 67, 0.15);\n",
              "      fill: #174EA6;\n",
              "    }\n",
              "\n",
              "    [theme=dark] .colab-df-convert {\n",
              "      background-color: #3B4455;\n",
              "      fill: #D2E3FC;\n",
              "    }\n",
              "\n",
              "    [theme=dark] .colab-df-convert:hover {\n",
              "      background-color: #434B5C;\n",
              "      box-shadow: 0px 1px 3px 1px rgba(0, 0, 0, 0.15);\n",
              "      filter: drop-shadow(0px 1px 2px rgba(0, 0, 0, 0.3));\n",
              "      fill: #FFFFFF;\n",
              "    }\n",
              "  </style>\n",
              "\n",
              "      <script>\n",
              "        const buttonEl =\n",
              "          document.querySelector('#df-5eb8844b-e911-47a8-88e7-74534dbd6968 button.colab-df-convert');\n",
              "        buttonEl.style.display =\n",
              "          google.colab.kernel.accessAllowed ? 'block' : 'none';\n",
              "\n",
              "        async function convertToInteractive(key) {\n",
              "          const element = document.querySelector('#df-5eb8844b-e911-47a8-88e7-74534dbd6968');\n",
              "          const dataTable =\n",
              "            await google.colab.kernel.invokeFunction('convertToInteractive',\n",
              "                                                     [key], {});\n",
              "          if (!dataTable) return;\n",
              "\n",
              "          const docLinkHtml = 'Like what you see? Visit the ' +\n",
              "            '<a target=\"_blank\" href=https://colab.research.google.com/notebooks/data_table.ipynb>data table notebook</a>'\n",
              "            + ' to learn more about interactive tables.';\n",
              "          element.innerHTML = '';\n",
              "          dataTable['output_type'] = 'display_data';\n",
              "          await google.colab.output.renderOutput(dataTable, element);\n",
              "          const docLink = document.createElement('div');\n",
              "          docLink.innerHTML = docLinkHtml;\n",
              "          element.appendChild(docLink);\n",
              "        }\n",
              "      </script>\n",
              "    </div>\n",
              "  </div>\n",
              "  "
            ]
          },
          "metadata": {},
          "execution_count": 8
        }
      ]
    },
    {
      "cell_type": "code",
      "source": [
        "\n",
        "from scipy.stats import ttest_ind\n",
        "\n",
        "ttest_ind(df_2019['ideb'][df_2019['sigla_uf'] == 'RS'],df_2019['ideb'][df_2019['sigla_uf'] == 'CE'], nan_policy = 'omit')"
      ],
      "metadata": {
        "colab": {
          "base_uri": "https://localhost:8080/"
        },
        "id": "DCj4hIeFY8nA",
        "outputId": "a4b78f06-068e-46be-91a6-9d5c6290edef"
      },
      "execution_count": null,
      "outputs": [
        {
          "output_type": "execute_result",
          "data": {
            "text/plain": [
              "Ttest_indResult(statistic=-4.320050871966293, pvalue=1.6632800256887865e-05)"
            ]
          },
          "metadata": {},
          "execution_count": 9
        }
      ]
    },
    {
      "cell_type": "markdown",
      "source": [
        "O pvalor deu menor do que o nível de significância, dessa forma podemos assumir com 95% de confiança de que a média do IDEB dos estados do Ceará e Rio Grande do Sul no ano de 2019 não são iguais."
      ],
      "metadata": {
        "id": "Kq9kL96OcphR"
      }
    },
    {
      "cell_type": "markdown",
      "source": [
        "### Atividade 5: Com base no resultado do teste anterior, faça um boxplot que lhe ajude a entender melhor os resultados obtidos. Isto é, compare o boxplot do IDEB dos dois estados."
      ],
      "metadata": {
        "id": "8uxllG0pIBeA"
      }
    },
    {
      "cell_type": "code",
      "source": [
        "# seu código\n",
        "\n",
        "df_RS = df_2019[df_2019['sigla_uf'] == 'RS']\n",
        "df_CE = df_2019[df_2019['sigla_uf'] == 'CE']\n",
        "\n",
        "import seaborn as sns \n",
        "\n",
        "df_estados = pd.concat([df_RS,df_CE])\n",
        "\n",
        "sns.boxplot(x= df_estados['sigla_uf'], y= df_estados['ideb']);"
      ],
      "metadata": {
        "id": "k0rj4wdnHWhy",
        "colab": {
          "base_uri": "https://localhost:8080/",
          "height": 280
        },
        "outputId": "3e442164-387d-452a-8307-10cd8f25b2ce"
      },
      "execution_count": null,
      "outputs": [
        {
          "output_type": "display_data",
          "data": {
            "text/plain": [
              "<Figure size 432x288 with 1 Axes>"
            ],
            "image/png": "[encoded data removed]"
          },
          "metadata": {
            "needs_background": "light"
          }
        }
      ]
    },
    {
      "cell_type": "markdown",
      "source": [
        "Analisando o boxplot do IDEB dos dois estados, é possível notar que apesar da mediana ser próxima para os dois estados,o estado do Ceará possui outliers com valores altos e que puxam a média para cima, enquanto o Rio Grande do Sul possui outliers com valores mais baixos e que puxam a média para baixo. "
      ],
      "metadata": {
        "id": "BQnzMjd68ZoE"
      }
    },
    {
      "cell_type": "markdown",
      "source": [
        "### Atividade 6: Teste a hipótese de a média do IDEB para os anos de 2005 e 2019 serem iguais. Considere um nível de confiança de 95%\n",
        "\n",
        "Dica: Crie dois dataframes auxiliares e selecione 300 linhas de cada um apenas (sem conter valores faltantes) para realizar o teste."
      ],
      "metadata": {
        "id": "VTgadqJqIUWt"
      }
    },
    {
      "cell_type": "code",
      "source": [
        "# seu código\n",
        "\n",
        "df=df_ideb[['ano','ideb']]\n",
        "\n",
        "df_2005= df[df['ano']==2005].dropna()\n",
        "df_2019= df[df['ano']==2019].dropna()\n",
        "\n",
        "df_2005= df_2005.head(300)\n",
        "df_2019= df_2019.head(300)\n",
        "\n",
        "from scipy.stats import ttest_rel\n",
        "\n",
        "ttest_rel(df_2005['ideb'],df_2019['ideb'])\n"
      ],
      "metadata": {
        "id": "MDqP4xvRIPOt",
        "colab": {
          "base_uri": "https://localhost:8080/"
        },
        "outputId": "bfa908ba-a3cf-45cc-d605-58610843c0eb"
      },
      "execution_count": null,
      "outputs": [
        {
          "output_type": "execute_result",
          "data": {
            "text/plain": [
              "Ttest_relResult(statistic=-163.87518962388705, pvalue=8.329734374233758e-295)"
            ]
          },
          "metadata": {},
          "execution_count": 11
        }
      ]
    },
    {
      "cell_type": "markdown",
      "source": [
        "O pvalor deu menor do que o nível de significância, dessa forma podemos assumir com 95% de confiança de que a média do IDEB nos anos de 2005 e 2019 não são iguais."
      ],
      "metadata": {
        "id": "7U1jJog49neA"
      }
    },
    {
      "cell_type": "markdown",
      "source": [
        "### Atividade 7: Com base no resultado do teste anterior, faça um boxplot que lhe ajude a entender melhor os resultados obtidos. Isto é, compare o boxplot do IDEB para os dois anos."
      ],
      "metadata": {
        "id": "NtEjca_OIc4w"
      }
    },
    {
      "cell_type": "code",
      "source": [
        "# seu código\n",
        "\n",
        "df_ano = pd.concat([df_2005,df_2019])\n",
        "\n",
        "sns.boxplot(x= df_ano['ano'], y= df_ano['ideb']);"
      ],
      "metadata": {
        "id": "2k4C6scGIPKF",
        "colab": {
          "base_uri": "https://localhost:8080/",
          "height": 279
        },
        "outputId": "11606018-5cfe-4676-a3e2-e299afca1d83"
      },
      "execution_count": null,
      "outputs": [
        {
          "output_type": "display_data",
          "data": {
            "text/plain": [
              "<Figure size 432x288 with 1 Axes>"
            ],
            "image/png": "[encoded data removed]"
          },
          "metadata": {
            "needs_background": "light"
          }
        }
      ]
    },
    {
      "cell_type": "markdown",
      "source": [
        "A partir do boxplot, é possível notar que a maior parte dos valores do IDEB de 2019 são maiores do que os valores do IDEB de 2005, o que indica que a média de 2019 é maior do que a média de 2005."
      ],
      "metadata": {
        "id": "i3zv53j594aL"
      }
    },
    {
      "cell_type": "markdown",
      "source": [
        "# Análise de Variância (ANOVA) One-Way\n",
        "\n",
        "### Atividade 8: Vamos comparar a média do IDEB para os três estados da região sul, em 2019, para ver se estas médias podem ser consideradas iguais. Considere um nível de confiança de 95%.\n",
        "\n",
        "Dica: Crie três dataframes auxiliares, um para cada estado."
      ],
      "metadata": {
        "id": "u7Zs62g3mY4E"
      }
    },
    {
      "cell_type": "code",
      "source": [
        "# seu código\n",
        "\n",
        "df= df_ideb[['ano','sigla_uf','ideb']]\n",
        "\n",
        "df_ano= df[df['ano']==2019]\n",
        "\n",
        "df_RS= df_ano[df_ano['sigla_uf'] == 'RS'].dropna()\n",
        "df_SC= df_ano[df_ano['sigla_uf'] == 'SC'].dropna()\n",
        "df_PR= df_ano[df_ano['sigla_uf'] == 'PR'].dropna()\n",
        "\n",
        "from scipy.stats import f_oneway\n",
        "\n",
        "f_oneway(df_RS['ideb'],df_SC['ideb'],df_PR['ideb'])"
      ],
      "metadata": {
        "id": "GUb-Ng3flRY7",
        "colab": {
          "base_uri": "https://localhost:8080/"
        },
        "outputId": "2b133ff0-98cb-497d-83fc-1f7863b52e51"
      },
      "execution_count": null,
      "outputs": [
        {
          "output_type": "execute_result",
          "data": {
            "text/plain": [
              "F_onewayResult(statistic=27.712354138245196, pvalue=1.2331589284254783e-12)"
            ]
          },
          "metadata": {},
          "execution_count": 13
        }
      ]
    },
    {
      "cell_type": "markdown",
      "source": [
        "O pvalor deu menor do que o nível de significância, dessa forma podemos assumir com 95% de confiança de que a média do IDEB para os três estados da Região Sul no ano de 2019 não são iguais."
      ],
      "metadata": {
        "id": "eZ-OrLf3-OfE"
      }
    },
    {
      "cell_type": "markdown",
      "source": [
        "### Atividade 9: Faça um boxplot para entender melhor o que está acontecendo com os valores do IDEB para os três estados."
      ],
      "metadata": {
        "id": "5fLIsXvgV5Z9"
      }
    },
    {
      "cell_type": "code",
      "source": [
        "# seu código\n",
        "\n",
        "df_estados= pd.concat([df_RS,df_PR,df_SC])\n",
        "sns.boxplot(x= df_estados['sigla_uf'], y= df_estados['ideb']);"
      ],
      "metadata": {
        "id": "XOUnpMm6Vqsm",
        "colab": {
          "base_uri": "https://localhost:8080/",
          "height": 282
        },
        "outputId": "072babe5-ac1a-461b-d7ad-69b108234f7f"
      },
      "execution_count": null,
      "outputs": [
        {
          "output_type": "display_data",
          "data": {
            "text/plain": [
              "<Figure size 432x288 with 1 Axes>"
            ],
            "image/png": "[encoded data removed]"
          },
          "metadata": {
            "needs_background": "light"
          }
        }
      ]
    },
    {
      "cell_type": "markdown",
      "source": [
        "Analisando o boxplot, é possível notar que apesar das medianas dos três estados serem próximas, o estado do Paraná possui uma mediana mais alta e um número considerável de outliers com valores mais altos também, o que indica que a média do IDEB do Paraná é mais alta. O estado do Rio Grande do Sul, apesar de ter outliers com valores mais altos em relação a Santa Catarina, também possui outliers com valores menores e um primeiro quartil maior também, que indicam uma média menor."
      ],
      "metadata": {
        "id": "ZpSQNMMa-hGi"
      }
    },
    {
      "cell_type": "markdown",
      "source": [
        "### Atividade 10: Faça um teste Post-hoc para verificar se de fato é o estado de Santa Catarina tem média diferente dos demais estados."
      ],
      "metadata": {
        "id": "YY9W9g4YWAwO"
      }
    },
    {
      "cell_type": "code",
      "source": [
        "# seu código\n",
        "\n",
        "from statsmodels.stats.multicomp import pairwise_tukeyhsd\n",
        "\n",
        "print(pairwise_tukeyhsd(endog = df_estados['ideb'], groups = df_estados['sigla_uf'], alpha = 0.05))"
      ],
      "metadata": {
        "id": "UEyFBLZMVqrG",
        "colab": {
          "base_uri": "https://localhost:8080/"
        },
        "outputId": "7e587e93-5d09-40ee-b8fb-ff4c5a2e2f2e"
      },
      "execution_count": null,
      "outputs": [
        {
          "output_type": "stream",
          "name": "stdout",
          "text": [
            "Multiple Comparison of Means - Tukey HSD, FWER=0.05 \n",
            "====================================================\n",
            "group1 group2 meandiff p-adj   lower   upper  reject\n",
            "----------------------------------------------------\n",
            "    PR     RS  -0.2294  0.001  -0.302 -0.1568   True\n",
            "    PR     SC  -0.1123 0.0035 -0.1936  -0.031   True\n",
            "    RS     SC   0.1171  0.001  0.0414  0.1928   True\n",
            "----------------------------------------------------\n"
          ]
        }
      ]
    },
    {
      "cell_type": "markdown",
      "source": [
        "A partir do teste de tuckey, é possível assumir com 95% de confiança de que as médias do IDEB dos três estados da Região Sul são diferentes entre si."
      ],
      "metadata": {
        "id": "bjXB3FaBAa2M"
      }
    }
  ]
}